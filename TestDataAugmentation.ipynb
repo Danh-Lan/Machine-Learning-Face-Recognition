{
 "cells": [
  {
   "cell_type": "markdown",
   "id": "63bb9d64",
   "metadata": {},
   "source": [
    "# Image classifiers training\n",
    "## 1. Data Augmentation"
   ]
  },
  {
   "cell_type": "code",
   "execution_count": 8,
   "id": "2dbf2c4e",
   "metadata": {},
   "outputs": [],
   "source": [
    "import numpy as np\n",
    "import torch\n",
    "import torchvision\n",
    "import torchvision.transforms as transforms\n",
    "from torch.utils.data.sampler import SubsetRandomSampler\n",
    "\n",
    "train_dir = './train_images'\n",
    "test_dir = './test_images'\n",
    "\n",
    "# Define the transformations for augmentation\n",
    "data_transforms = {\n",
    "    'train': transforms.Compose([\n",
    "        transforms.Grayscale(), \n",
    "        transforms.RandomResizedCrop(36),\n",
    "        transforms.RandomHorizontalFlip(),\n",
    "        transforms.ToTensor(),\n",
    "        transforms.Normalize(mean=(0,),std=(1,))\n",
    "    ]),\n",
    "    'test':transforms.Compose([\n",
    "        transforms.Grayscale(), \n",
    "        transforms.ToTensor(), \n",
    "        transforms.Normalize(mean=(0,),std=(1,))\n",
    "    ])        \n",
    "}\n",
    "train_data = torchvision.datasets.ImageFolder(train_dir, transform=data_transforms['train'])\n",
    "test_data = torchvision.datasets.ImageFolder(test_dir, transform=data_transforms['test'])\n"
   ]
  },
  {
   "cell_type": "code",
   "execution_count": 16,
   "id": "73ca7c09",
   "metadata": {},
   "outputs": [
    {
     "data": {
      "text/plain": [
       "91720"
      ]
     },
     "execution_count": 16,
     "metadata": {},
     "output_type": "execute_result"
    }
   ],
   "source": [
    "len(train_data)"
   ]
  },
  {
   "cell_type": "code",
   "execution_count": 17,
   "id": "98a8d6c2",
   "metadata": {},
   "outputs": [
    {
     "data": {
      "text/plain": [
       "7628"
      ]
     },
     "execution_count": 17,
     "metadata": {},
     "output_type": "execute_result"
    }
   ],
   "source": [
    "len(test_data)"
   ]
  },
  {
   "cell_type": "code",
   "execution_count": 18,
   "id": "23e0fcdd",
   "metadata": {},
   "outputs": [],
   "source": [
    "# Set device\n",
    "device = torch.device(\"cuda\" if torch.cuda.is_available() else \"cpu\")"
   ]
  },
  {
   "cell_type": "code",
   "execution_count": 21,
   "id": "0c412e06",
   "metadata": {},
   "outputs": [],
   "source": [
    "valid_size = 0.2\n",
    "batch_size = 32\n",
    "\n",
    "num_train = len(train_data)\n",
    "indices_train = list(range(num_train))\n",
    "np.random.shuffle(indices_train)\n",
    "split_tv = int(np.floor(valid_size * num_train))\n",
    "train_new_idx, valid_idx = indices_train[split_tv:],indices_train[:split_tv]\n",
    "\n",
    "train_sampler = SubsetRandomSampler(train_new_idx)\n",
    "valid_sampler = SubsetRandomSampler(valid_idx)\n",
    "\n",
    "train_loader = torch.utils.data.DataLoader(train_data, batch_size=batch_size, sampler=train_sampler, num_workers=5)\n",
    "valid_loader = torch.utils.data.DataLoader(train_data, batch_size=batch_size, sampler=valid_sampler, num_workers=5)\n",
    "test_loader = torch.utils.data.DataLoader(test_data, batch_size=batch_size, shuffle=True, num_workers=5)\n",
    "classes = ('noface','face')"
   ]
  },
  {
   "cell_type": "code",
   "execution_count": 12,
   "id": "f92e0ecb",
   "metadata": {},
   "outputs": [],
   "source": [
    "import torch.nn as nn\n",
    "import torch.nn.functional as F\n",
    "\n",
    "\n",
    "class Net_3_layers(nn.Module):\n",
    "    def __init__(self):\n",
    "        super(Net_3_layers, self).__init__()\n",
    "        self.conv1 = nn.Conv2d(1, 6, 5)\n",
    "        self.pool = nn.MaxPool2d(2, 2)\n",
    "        self.conv2 = nn.Conv2d(6, 16, 5)\n",
    "        self.fc1 = nn.Linear(16 * 6 * 6, 32)\n",
    "        self.fc2 = nn.Linear(32, 16)\n",
    "        self.fc3 = nn.Linear(16, 2)\n",
    "\n",
    "    def forward(self, x):\n",
    "        x = self.pool(F.relu(self.conv1(x)))\n",
    "        x = self.pool(F.relu(self.conv2(x)))\n",
    "        x = x.view(-1, 16 * 6 * 6)\n",
    "        x = F.relu(self.fc1(x))\n",
    "        x = F.relu(self.fc2(x))\n",
    "        x = self.fc3(x)\n",
    "        return x\n",
    "\n",
    "path = \"models/3-layer-net.pth\"\n",
    "model = Net_3_layers().to(device)\n",
    "torch.save(model.state_dict(), path)"
   ]
  },
  {
   "cell_type": "code",
   "execution_count": 13,
   "id": "82322785",
   "metadata": {},
   "outputs": [],
   "source": [
    "class Net_4_layers(nn.Module):\n",
    "    def __init__(self):\n",
    "        super(Net_4_layers, self).__init__()\n",
    "        self.conv1 = nn.Conv2d(1, 6, 5)\n",
    "        self.pool = nn.MaxPool2d(2, 2)\n",
    "        self.conv2 = nn.Conv2d(6, 16, 5)\n",
    "        self.fc1 = nn.Linear(16 * 6 * 6, 64)\n",
    "        self.fc2 = nn.Linear(64, 32)\n",
    "        self.fc3 = nn.Linear(32, 16) # Add a new fully connected layer\n",
    "        self.fc4 = nn.Linear(16, 2)\n",
    "\n",
    "    def forward(self, x):\n",
    "        x = self.pool(F.relu(self.conv1(x)))\n",
    "        x = self.pool(F.relu(self.conv2(x)))\n",
    "        x = x.view(-1, 16 * 6 * 6)\n",
    "        x = F.relu(self.fc1(x))\n",
    "        x = F.relu(self.fc2(x))\n",
    "        x = F.relu(self.fc3(x))\n",
    "        x = self.fc4(x)\n",
    "        return x\n",
    "path = \"models/4-layer-net.pth\"\n",
    "model_1 = Net_4_layers().to(device)\n",
    "torch.save(model_1.state_dict(), path)"
   ]
  },
  {
   "cell_type": "code",
   "execution_count": 11,
   "id": "d377eeb6",
   "metadata": {},
   "outputs": [],
   "source": [
    "def train_NN(n_epochs, optimizer, model, criterion):\n",
    "    for epoch in range(1, n_epochs+1):  # loop over the dataset multiple times\n",
    "        running_loss = 0.0\n",
    "        for i, data in enumerate(train_loader, 0):\n",
    "            # get the inputs; data is a list of [inputs, labels]\n",
    "            inputs, labels = data\n",
    "            inputs = inputs.to(device)\n",
    "            labels = labels.to(device)\n",
    "            # zero the parameter gradients\n",
    "            optimizer.zero_grad()\n",
    "\n",
    "            # forward + backward + optimize\n",
    "            outputs = model(inputs)\n",
    "            loss = criterion(outputs, labels)\n",
    "            loss.backward()\n",
    "            optimizer.step()\n",
    "\n",
    "            # print statistics\n",
    "            running_loss += loss.item()\n",
    "            if i % 2000 == 1999:    # print every 2000 mini-batches\n",
    "                print(f'[{epoch + 1}, {i + 1:5d}] loss: {running_loss / 2000:.3f}')\n",
    "                running_loss = 0.0\n",
    "\n",
    "    print('Finished Training')\n",
    "    "
   ]
  },
  {
   "cell_type": "code",
   "execution_count": 21,
   "id": "d59e8cd1",
   "metadata": {},
   "outputs": [
    {
     "name": "stdout",
     "output_type": "stream",
     "text": [
      "[2,  2000] loss: 0.391\n",
      "[3,  2000] loss: 0.272\n",
      "[4,  2000] loss: 0.220\n",
      "[5,  2000] loss: 0.187\n",
      "[6,  2000] loss: 0.164\n",
      "[7,  2000] loss: 0.153\n",
      "[8,  2000] loss: 0.144\n",
      "[9,  2000] loss: 0.134\n",
      "[10,  2000] loss: 0.128\n",
      "[11,  2000] loss: 0.127\n",
      "[12,  2000] loss: 0.121\n",
      "[13,  2000] loss: 0.117\n",
      "[14,  2000] loss: 0.115\n",
      "[15,  2000] loss: 0.110\n",
      "[16,  2000] loss: 0.110\n",
      "[17,  2000] loss: 0.105\n",
      "[18,  2000] loss: 0.105\n",
      "[19,  2000] loss: 0.105\n",
      "[20,  2000] loss: 0.102\n",
      "[21,  2000] loss: 0.102\n",
      "Finished Training\n"
     ]
    }
   ],
   "source": [
    "import torch.optim as optim\n",
    "\n",
    "criterion = nn.CrossEntropyLoss()\n",
    "optimizer_Adam = optim.Adam(model_1.parameters(), lr=0.001, weight_decay=1e-4) # Use Adam optimization\n",
    "optimizer_SGD = optim.SGD(model.parameters(), lr=0.001, momentum=0.9)\n",
    "n_epochs = 20\n",
    "\n",
    "#train_NN(n_epochs, optimizer_SGD, model, criterion)\n",
    "train_NN(n_epochs, optimizer_Adam, model_1, criterion)\n",
    "\n"
   ]
  },
  {
   "cell_type": "code",
   "execution_count": 22,
   "id": "8c7a44d7",
   "metadata": {},
   "outputs": [],
   "source": [
    "def get_classifier_accuracy(model):\n",
    "    correct = 0\n",
    "    total = 0\n",
    "    with torch.no_grad():\n",
    "        for data in test_loader:\n",
    "            inputs, labels = data\n",
    "            inputs = inputs.to(device)\n",
    "            labels = labels.to(device)\n",
    "            outputs = model(inputs)\n",
    "            _, predicted = torch.max(outputs.data, 1)\n",
    "            total += labels.size(0)\n",
    "            correct += (predicted == labels).sum().item()\n",
    "    return 100 * correct / total"
   ]
  },
  {
   "cell_type": "code",
   "execution_count": 23,
   "id": "ad2aa16b",
   "metadata": {},
   "outputs": [
    {
     "name": "stdout",
     "output_type": "stream",
     "text": [
      "Accuracy of the 3-layer classifier on the 7628 test images: 98.03\n",
      "Accuracy of the 4-layer classifier on the 7628 test images: 98.30\n"
     ]
    }
   ],
   "source": [
    "model_accuracy = get_classifier_accuracy(model)\n",
    "model_1_accuracy = get_classifier_accuracy(model_1)\n",
    "print('Accuracy of the 3-layer classifier on the 7628 test images: {:.2f}'.format(model_accuracy))\n",
    "print('Accuracy of the 4-layer classifier on the 7628 test images: {:.2f}'.format(model_1_accuracy))"
   ]
  },
  {
   "cell_type": "markdown",
   "id": "421b645f",
   "metadata": {},
   "source": [
    "**Observation**\n",
    "By applying data augmentation techniques on the fly, we obtained a classifier of 98% accuracy, which is 6% higher than the one trained with original data.\n",
    "Then we added a fully-connected layer (64,32) and replaced SGD with Adam as optimization function. The accuracy of image classifier increased by 0.3%."
   ]
  },
  {
   "cell_type": "markdown",
   "id": "6d7b2e35",
   "metadata": {},
   "source": [
    "## 2. Transfer Learning\n",
    "Since RESNET18 was trained on RGB images, we do not apply GrayScale transform in pre-processing step."
   ]
  },
  {
   "cell_type": "code",
   "execution_count": 24,
   "id": "0f30a639",
   "metadata": {},
   "outputs": [],
   "source": [
    "# Define the transformations for augmentation\n",
    "data_transforms_RGB = {\n",
    "    'train': transforms.Compose([\n",
    "        transforms.RandomResizedCrop(36),\n",
    "        transforms.RandomHorizontalFlip(),\n",
    "        transforms.ToTensor(),\n",
    "        transforms.Normalize([0.485, 0.456, 0.406], [0.229, 0.224, 0.225])\n",
    "    ]),\n",
    "    'test':transforms.Compose([\n",
    "        transforms.ToTensor(), \n",
    "        transforms.Normalize([0.485, 0.456, 0.406], [0.229, 0.224, 0.225])\n",
    "    ])        \n",
    "}\n",
    "train_data_RGB = torchvision.datasets.ImageFolder(train_dir, transform=data_transforms_RGB['train'])\n",
    "test_data_RGB = torchvision.datasets.ImageFolder(test_dir, transform=data_transforms_RGB['test'])\n"
   ]
  },
  {
   "cell_type": "code",
   "execution_count": 25,
   "id": "2360ac6a",
   "metadata": {},
   "outputs": [],
   "source": [
    "train_loader = torch.utils.data.DataLoader(train_data_RGB, batch_size=batch_size, sampler=train_sampler, num_workers=5)\n",
    "valid_loader = torch.utils.data.DataLoader(train_data_RGB, batch_size=batch_size, sampler=valid_sampler, num_workers=5)\n",
    "test_loader = torch.utils.data.DataLoader(test_data_RGB, batch_size=batch_size, shuffle=True, num_workers=5)"
   ]
  },
  {
   "cell_type": "code",
   "execution_count": 26,
   "id": "f38870ae",
   "metadata": {},
   "outputs": [],
   "source": [
    "import torch.nn as nn\n",
    "model_ft = torchvision.models.resnet18(weights='IMAGENET1K_V1')\n",
    "num_ftrs = model_ft.fc.in_features\n",
    "model_ft.fc = nn.Linear(num_ftrs, 2)\n",
    "model_2 = model_ft.to(device)"
   ]
  },
  {
   "cell_type": "code",
   "execution_count": null,
   "id": "b44456f0",
   "metadata": {},
   "outputs": [],
   "source": [
    "import torch.optim as optim\n",
    "\n",
    "criterion = nn.CrossEntropyLoss()\n",
    "optimizer_SGD = optim.SGD(model_2.parameters(), lr=0.001, momentum=0.9)\n",
    "n_epochs = 20\n",
    "\n",
    "train_NN(n_epochs, optimizer_SGD, model_2, criterion)\n"
   ]
  },
  {
   "cell_type": "code",
   "execution_count": null,
   "id": "998e425a",
   "metadata": {},
   "outputs": [],
   "source": []
  }
 ],
 "metadata": {
  "kernelspec": {
   "display_name": "Python 3 (ipykernel)",
   "language": "python",
   "name": "python3"
  },
  "language_info": {
   "codemirror_mode": {
    "name": "ipython",
    "version": 3
   },
   "file_extension": ".py",
   "mimetype": "text/x-python",
   "name": "python",
   "nbconvert_exporter": "python",
   "pygments_lexer": "ipython3",
   "version": "3.9.12"
  }
 },
 "nbformat": 4,
 "nbformat_minor": 5
}
