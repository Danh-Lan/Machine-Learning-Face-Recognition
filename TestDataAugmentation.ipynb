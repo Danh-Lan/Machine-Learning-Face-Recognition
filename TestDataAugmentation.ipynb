{
 "cells": [
  {
   "cell_type": "markdown",
   "id": "63bb9d64",
   "metadata": {},
   "source": [
    "# Image classifiers training\n",
    "## 1. Data Augmentation"
   ]
  },
  {
   "cell_type": "code",
   "execution_count": 1,
   "id": "2dbf2c4e",
   "metadata": {},
   "outputs": [],
   "source": [
    "import numpy as np\n",
    "import torch\n",
    "import torchvision\n",
    "import torchvision.transforms as transforms\n",
    "\n",
    "train_dir = './train_images'\n",
    "test_dir = './test_images'\n",
    "\n",
    "# Define the transformations for augmentation\n",
    "data_transforms = {\n",
    "    'train': transforms.Compose([\n",
    "        transforms.Grayscale(), \n",
    "        transforms.RandomResizedCrop(36),\n",
    "        transforms.RandomHorizontalFlip(),\n",
    "        transforms.ToTensor(),\n",
    "        transforms.Normalize(mean=(0,),std=(1,))\n",
    "    ]),\n",
    "    'test':transforms.Compose([\n",
    "        transforms.Grayscale(),\n",
    "        transforms.ToTensor(),\n",
    "        transforms.Normalize(mean=(0,),std=(1,))\n",
    "    ])        \n",
    "}\n",
    "train_data = torchvision.datasets.ImageFolder(train_dir, transform=data_transforms['train'])\n",
    "test_data = torchvision.datasets.ImageFolder(test_dir, transform=data_transforms['test'])\n",
    "\n",
    "train_data_size = len(train_data)\n",
    "test_data_size = len(test_data)"
   ]
  },
  {
   "cell_type": "code",
   "execution_count": 2,
   "id": "23e0fcdd",
   "metadata": {},
   "outputs": [],
   "source": [
    "# Set device\n",
    "device = torch.device(\"cuda\" if torch.cuda.is_available() else \"cpu\")"
   ]
  },
  {
   "cell_type": "code",
   "execution_count": 3,
   "id": "0c412e06",
   "metadata": {},
   "outputs": [],
   "source": [
    "from torch.utils.data.sampler import SubsetRandomSampler\n",
    "\n",
    "valid_size = 0.2\n",
    "batch_size = 32\n",
    "seed = 42\n",
    "np.random.seed(seed)\n",
    "torch.manual_seed(seed)\n",
    "\n",
    "num_train = len(train_data)\n",
    "indices_train = list(range(num_train))\n",
    "np.random.shuffle(indices_train)\n",
    "split_tv = int(np.floor(valid_size * num_train))\n",
    "train_new_idx, valid_idx = indices_train[split_tv:],indices_train[:split_tv]\n",
    "\n",
    "train_sampler = SubsetRandomSampler(train_new_idx)\n",
    "valid_sampler = SubsetRandomSampler(valid_idx)\n",
    "\n",
    "train_loader = torch.utils.data.DataLoader(train_data, batch_size=batch_size, sampler=train_sampler, num_workers=5)\n",
    "valid_loader = torch.utils.data.DataLoader(train_data, batch_size=batch_size, sampler=valid_sampler, num_workers=5)\n",
    "test_loader = torch.utils.data.DataLoader(test_data, batch_size=batch_size, shuffle=True, num_workers=5)\n",
    "classes = ('noface','face')"
   ]
  },
  {
   "cell_type": "code",
   "execution_count": 4,
   "id": "f92e0ecb",
   "metadata": {},
   "outputs": [],
   "source": [
    "import torch.nn as nn\n",
    "import torch.nn.functional as F\n",
    "\n",
    "\n",
    "class Net_3_layers(nn.Module):\n",
    "    def __init__(self):\n",
    "        super(Net_3_layers, self).__init__()\n",
    "        self.conv1 = nn.Conv2d(1, 6, 5)\n",
    "        self.pool = nn.MaxPool2d(2, 2)\n",
    "        self.conv2 = nn.Conv2d(6, 16, 5)\n",
    "        self.fc1 = nn.Linear(16 * 6 * 6, 32)\n",
    "        self.fc2 = nn.Linear(32, 16)\n",
    "        self.fc3 = nn.Linear(16, 2)\n",
    "\n",
    "    def forward(self, x):\n",
    "        x = self.pool(F.relu(self.conv1(x)))\n",
    "        x = self.pool(F.relu(self.conv2(x)))\n",
    "        x = x.view(-1, 16 * 6 * 6)\n",
    "        x = F.relu(self.fc1(x))\n",
    "        x = F.relu(self.fc2(x))\n",
    "        x = self.fc3(x)\n",
    "        return x\n",
    "\n",
    "model = Net_3_layers().to(device)"
   ]
  },
  {
   "cell_type": "code",
   "execution_count": 5,
   "id": "82322785",
   "metadata": {},
   "outputs": [],
   "source": [
    "class Net_4_layers(nn.Module):\n",
    "    def __init__(self):\n",
    "        super(Net_4_layers, self).__init__()\n",
    "        self.conv1 = nn.Conv2d(1, 6, 5)\n",
    "        self.pool = nn.MaxPool2d(2, 2)\n",
    "        self.conv2 = nn.Conv2d(6, 16, 5)\n",
    "        self.fc1 = nn.Linear(16 * 6 * 6, 64)\n",
    "        self.fc2 = nn.Linear(64, 32)\n",
    "        self.fc3 = nn.Linear(32, 16) # Add a new fully connected layer\n",
    "        self.fc4 = nn.Linear(16, 2)\n",
    "\n",
    "    def forward(self, x):\n",
    "        x = self.pool(F.relu(self.conv1(x)))\n",
    "        x = self.pool(F.relu(self.conv2(x)))\n",
    "        x = x.view(-1, 16 * 6 * 6)\n",
    "        x = F.relu(self.fc1(x))\n",
    "        x = F.relu(self.fc2(x))\n",
    "        x = F.relu(self.fc3(x))\n",
    "        x = self.fc4(x)\n",
    "        return x\n",
    "\n",
    "model_1 = Net_4_layers().to(device)"
   ]
  },
  {
   "cell_type": "code",
   "execution_count": 6,
   "id": "d377eeb6",
   "metadata": {},
   "outputs": [],
   "source": [
    "def train_NN(n_epochs, optimizer, model, criterion):\n",
    "    for epoch in range(1, n_epochs+1):  # loop over the dataset multiple times\n",
    "        running_loss = 0.0\n",
    "        for i, data in enumerate(train_loader, 0):\n",
    "            # get the inputs; data is a list of [inputs, labels]\n",
    "            inputs, labels = data\n",
    "            inputs = inputs.to(device)\n",
    "            labels = labels.to(device)\n",
    "            # zero the parameter gradients\n",
    "            optimizer.zero_grad()\n",
    "\n",
    "            # forward + backward + optimize\n",
    "            outputs = model(inputs)\n",
    "            loss = criterion(outputs, labels)\n",
    "            loss.backward()\n",
    "            optimizer.step()\n",
    "\n",
    "            # print statistics\n",
    "            running_loss += loss.item()\n",
    "            if i % 2000 == 1999:    # print every 2000 mini-batches\n",
    "                print(f'[{epoch}, {i + 1:5d}] loss: {running_loss / 2000:.3f}')\n",
    "                running_loss = 0.0\n",
    "\n",
    "    print('Finished Training')"
   ]
  },
  {
   "cell_type": "code",
   "execution_count": 7,
   "id": "d59e8cd1",
   "metadata": {},
   "outputs": [
    {
     "name": "stdout",
     "output_type": "stream",
     "text": [
      "[1,  2000] loss: 0.606\n",
      "[2,  2000] loss: 0.584\n",
      "[3,  2000] loss: 0.485\n",
      "[4,  2000] loss: 0.383\n",
      "[5,  2000] loss: 0.333\n",
      "[6,  2000] loss: 0.297\n",
      "[7,  2000] loss: 0.276\n",
      "[8,  2000] loss: 0.248\n",
      "[9,  2000] loss: 0.220\n",
      "[10,  2000] loss: 0.211\n",
      "[11,  2000] loss: 0.196\n",
      "[12,  2000] loss: 0.181\n",
      "[13,  2000] loss: 0.174\n",
      "[14,  2000] loss: 0.165\n",
      "[15,  2000] loss: 0.161\n",
      "[16,  2000] loss: 0.156\n",
      "[17,  2000] loss: 0.148\n",
      "[18,  2000] loss: 0.140\n",
      "[19,  2000] loss: 0.137\n",
      "[20,  2000] loss: 0.133\n",
      "Finished Training\n",
      "[1,  2000] loss: 0.405\n",
      "[2,  2000] loss: 0.269\n",
      "[3,  2000] loss: 0.198\n",
      "[4,  2000] loss: 0.169\n",
      "[5,  2000] loss: 0.151\n",
      "[6,  2000] loss: 0.139\n",
      "[7,  2000] loss: 0.133\n",
      "[8,  2000] loss: 0.126\n",
      "[9,  2000] loss: 0.119\n",
      "[10,  2000] loss: 0.115\n",
      "[11,  2000] loss: 0.112\n",
      "[12,  2000] loss: 0.108\n",
      "[13,  2000] loss: 0.106\n",
      "[14,  2000] loss: 0.102\n",
      "[15,  2000] loss: 0.106\n",
      "[16,  2000] loss: 0.102\n",
      "[17,  2000] loss: 0.097\n",
      "[18,  2000] loss: 0.099\n",
      "[19,  2000] loss: 0.096\n",
      "[20,  2000] loss: 0.097\n"
     ]
    },
    {
     "ename": "KeyboardInterrupt",
     "evalue": "",
     "output_type": "error",
     "traceback": [
      "\u001b[1;31m---------------------------------------------------------------------------\u001b[0m",
      "\u001b[1;31mKeyboardInterrupt\u001b[0m                         Traceback (most recent call last)",
      "\u001b[1;32mc:\\5IF\\OT2 ML & DA\\TestDataAugmentation.ipynb Cell 8\u001b[0m line \u001b[0;36m9\n\u001b[0;32m      <a href='vscode-notebook-cell:/c%3A/5IF/OT2%20ML%20%26%20DA/TestDataAugmentation.ipynb#X10sZmlsZQ%3D%3D?line=5'>6</a>\u001b[0m n_epochs \u001b[39m=\u001b[39m \u001b[39m20\u001b[39m\n\u001b[0;32m      <a href='vscode-notebook-cell:/c%3A/5IF/OT2%20ML%20%26%20DA/TestDataAugmentation.ipynb#X10sZmlsZQ%3D%3D?line=7'>8</a>\u001b[0m train_NN(n_epochs, optimizer_SGD, model, criterion)\n\u001b[1;32m----> <a href='vscode-notebook-cell:/c%3A/5IF/OT2%20ML%20%26%20DA/TestDataAugmentation.ipynb#X10sZmlsZQ%3D%3D?line=8'>9</a>\u001b[0m train_NN(n_epochs, optimizer_Adam, model_1, criterion)\n\u001b[0;32m     <a href='vscode-notebook-cell:/c%3A/5IF/OT2%20ML%20%26%20DA/TestDataAugmentation.ipynb#X10sZmlsZQ%3D%3D?line=10'>11</a>\u001b[0m \u001b[39m# save the model after training\u001b[39;00m\n\u001b[0;32m     <a href='vscode-notebook-cell:/c%3A/5IF/OT2%20ML%20%26%20DA/TestDataAugmentation.ipynb#X10sZmlsZQ%3D%3D?line=11'>12</a>\u001b[0m path \u001b[39m=\u001b[39m \u001b[39m\"\u001b[39m\u001b[39mmodels/3-layer-net.pth\u001b[39m\u001b[39m\"\u001b[39m\n",
      "\u001b[1;32mc:\\5IF\\OT2 ML & DA\\TestDataAugmentation.ipynb Cell 8\u001b[0m line \u001b[0;36m1\n\u001b[0;32m     <a href='vscode-notebook-cell:/c%3A/5IF/OT2%20ML%20%26%20DA/TestDataAugmentation.ipynb#X10sZmlsZQ%3D%3D?line=9'>10</a>\u001b[0m optimizer\u001b[39m.\u001b[39mzero_grad()\n\u001b[0;32m     <a href='vscode-notebook-cell:/c%3A/5IF/OT2%20ML%20%26%20DA/TestDataAugmentation.ipynb#X10sZmlsZQ%3D%3D?line=11'>12</a>\u001b[0m \u001b[39m# forward + backward + optimize\u001b[39;00m\n\u001b[1;32m---> <a href='vscode-notebook-cell:/c%3A/5IF/OT2%20ML%20%26%20DA/TestDataAugmentation.ipynb#X10sZmlsZQ%3D%3D?line=12'>13</a>\u001b[0m outputs \u001b[39m=\u001b[39m model(inputs)\n\u001b[0;32m     <a href='vscode-notebook-cell:/c%3A/5IF/OT2%20ML%20%26%20DA/TestDataAugmentation.ipynb#X10sZmlsZQ%3D%3D?line=13'>14</a>\u001b[0m loss \u001b[39m=\u001b[39m criterion(outputs, labels)\n\u001b[0;32m     <a href='vscode-notebook-cell:/c%3A/5IF/OT2%20ML%20%26%20DA/TestDataAugmentation.ipynb#X10sZmlsZQ%3D%3D?line=14'>15</a>\u001b[0m loss\u001b[39m.\u001b[39mbackward()\n",
      "File \u001b[1;32m~\\AppData\\Roaming\\Python\\Python311\\site-packages\\torch\\nn\\modules\\module.py:1501\u001b[0m, in \u001b[0;36mModule._call_impl\u001b[1;34m(self, *args, **kwargs)\u001b[0m\n\u001b[0;32m   1496\u001b[0m \u001b[39m# If we don't have any hooks, we want to skip the rest of the logic in\u001b[39;00m\n\u001b[0;32m   1497\u001b[0m \u001b[39m# this function, and just call forward.\u001b[39;00m\n\u001b[0;32m   1498\u001b[0m \u001b[39mif\u001b[39;00m \u001b[39mnot\u001b[39;00m (\u001b[39mself\u001b[39m\u001b[39m.\u001b[39m_backward_hooks \u001b[39mor\u001b[39;00m \u001b[39mself\u001b[39m\u001b[39m.\u001b[39m_backward_pre_hooks \u001b[39mor\u001b[39;00m \u001b[39mself\u001b[39m\u001b[39m.\u001b[39m_forward_hooks \u001b[39mor\u001b[39;00m \u001b[39mself\u001b[39m\u001b[39m.\u001b[39m_forward_pre_hooks\n\u001b[0;32m   1499\u001b[0m         \u001b[39mor\u001b[39;00m _global_backward_pre_hooks \u001b[39mor\u001b[39;00m _global_backward_hooks\n\u001b[0;32m   1500\u001b[0m         \u001b[39mor\u001b[39;00m _global_forward_hooks \u001b[39mor\u001b[39;00m _global_forward_pre_hooks):\n\u001b[1;32m-> 1501\u001b[0m     \u001b[39mreturn\u001b[39;00m forward_call(\u001b[39m*\u001b[39;49margs, \u001b[39m*\u001b[39;49m\u001b[39m*\u001b[39;49mkwargs)\n\u001b[0;32m   1502\u001b[0m \u001b[39m# Do not call functions when jit is used\u001b[39;00m\n\u001b[0;32m   1503\u001b[0m full_backward_hooks, non_full_backward_hooks \u001b[39m=\u001b[39m [], []\n",
      "\u001b[1;32mc:\\5IF\\OT2 ML & DA\\TestDataAugmentation.ipynb Cell 8\u001b[0m line \u001b[0;36m1\n\u001b[0;32m     <a href='vscode-notebook-cell:/c%3A/5IF/OT2%20ML%20%26%20DA/TestDataAugmentation.ipynb#X10sZmlsZQ%3D%3D?line=11'>12</a>\u001b[0m \u001b[39mdef\u001b[39;00m \u001b[39mforward\u001b[39m(\u001b[39mself\u001b[39m, x):\n\u001b[0;32m     <a href='vscode-notebook-cell:/c%3A/5IF/OT2%20ML%20%26%20DA/TestDataAugmentation.ipynb#X10sZmlsZQ%3D%3D?line=12'>13</a>\u001b[0m     x \u001b[39m=\u001b[39m \u001b[39mself\u001b[39m\u001b[39m.\u001b[39mpool(F\u001b[39m.\u001b[39mrelu(\u001b[39mself\u001b[39m\u001b[39m.\u001b[39mconv1(x)))\n\u001b[1;32m---> <a href='vscode-notebook-cell:/c%3A/5IF/OT2%20ML%20%26%20DA/TestDataAugmentation.ipynb#X10sZmlsZQ%3D%3D?line=13'>14</a>\u001b[0m     x \u001b[39m=\u001b[39m \u001b[39mself\u001b[39m\u001b[39m.\u001b[39mpool(F\u001b[39m.\u001b[39mrelu(\u001b[39mself\u001b[39;49m\u001b[39m.\u001b[39;49mconv2(x)))\n\u001b[0;32m     <a href='vscode-notebook-cell:/c%3A/5IF/OT2%20ML%20%26%20DA/TestDataAugmentation.ipynb#X10sZmlsZQ%3D%3D?line=14'>15</a>\u001b[0m     x \u001b[39m=\u001b[39m x\u001b[39m.\u001b[39mview(\u001b[39m-\u001b[39m\u001b[39m1\u001b[39m, \u001b[39m16\u001b[39m \u001b[39m*\u001b[39m \u001b[39m6\u001b[39m \u001b[39m*\u001b[39m \u001b[39m6\u001b[39m)\n\u001b[0;32m     <a href='vscode-notebook-cell:/c%3A/5IF/OT2%20ML%20%26%20DA/TestDataAugmentation.ipynb#X10sZmlsZQ%3D%3D?line=15'>16</a>\u001b[0m     x \u001b[39m=\u001b[39m F\u001b[39m.\u001b[39mrelu(\u001b[39mself\u001b[39m\u001b[39m.\u001b[39mfc1(x))\n",
      "File \u001b[1;32m~\\AppData\\Roaming\\Python\\Python311\\site-packages\\torch\\nn\\modules\\module.py:1501\u001b[0m, in \u001b[0;36mModule._call_impl\u001b[1;34m(self, *args, **kwargs)\u001b[0m\n\u001b[0;32m   1496\u001b[0m \u001b[39m# If we don't have any hooks, we want to skip the rest of the logic in\u001b[39;00m\n\u001b[0;32m   1497\u001b[0m \u001b[39m# this function, and just call forward.\u001b[39;00m\n\u001b[0;32m   1498\u001b[0m \u001b[39mif\u001b[39;00m \u001b[39mnot\u001b[39;00m (\u001b[39mself\u001b[39m\u001b[39m.\u001b[39m_backward_hooks \u001b[39mor\u001b[39;00m \u001b[39mself\u001b[39m\u001b[39m.\u001b[39m_backward_pre_hooks \u001b[39mor\u001b[39;00m \u001b[39mself\u001b[39m\u001b[39m.\u001b[39m_forward_hooks \u001b[39mor\u001b[39;00m \u001b[39mself\u001b[39m\u001b[39m.\u001b[39m_forward_pre_hooks\n\u001b[0;32m   1499\u001b[0m         \u001b[39mor\u001b[39;00m _global_backward_pre_hooks \u001b[39mor\u001b[39;00m _global_backward_hooks\n\u001b[0;32m   1500\u001b[0m         \u001b[39mor\u001b[39;00m _global_forward_hooks \u001b[39mor\u001b[39;00m _global_forward_pre_hooks):\n\u001b[1;32m-> 1501\u001b[0m     \u001b[39mreturn\u001b[39;00m forward_call(\u001b[39m*\u001b[39;49margs, \u001b[39m*\u001b[39;49m\u001b[39m*\u001b[39;49mkwargs)\n\u001b[0;32m   1502\u001b[0m \u001b[39m# Do not call functions when jit is used\u001b[39;00m\n\u001b[0;32m   1503\u001b[0m full_backward_hooks, non_full_backward_hooks \u001b[39m=\u001b[39m [], []\n",
      "File \u001b[1;32m~\\AppData\\Roaming\\Python\\Python311\\site-packages\\torch\\nn\\modules\\conv.py:463\u001b[0m, in \u001b[0;36mConv2d.forward\u001b[1;34m(self, input)\u001b[0m\n\u001b[0;32m    462\u001b[0m \u001b[39mdef\u001b[39;00m \u001b[39mforward\u001b[39m(\u001b[39mself\u001b[39m, \u001b[39minput\u001b[39m: Tensor) \u001b[39m-\u001b[39m\u001b[39m>\u001b[39m Tensor:\n\u001b[1;32m--> 463\u001b[0m     \u001b[39mreturn\u001b[39;00m \u001b[39mself\u001b[39;49m\u001b[39m.\u001b[39;49m_conv_forward(\u001b[39minput\u001b[39;49m, \u001b[39mself\u001b[39;49m\u001b[39m.\u001b[39;49mweight, \u001b[39mself\u001b[39;49m\u001b[39m.\u001b[39;49mbias)\n",
      "File \u001b[1;32m~\\AppData\\Roaming\\Python\\Python311\\site-packages\\torch\\nn\\modules\\conv.py:459\u001b[0m, in \u001b[0;36mConv2d._conv_forward\u001b[1;34m(self, input, weight, bias)\u001b[0m\n\u001b[0;32m    455\u001b[0m \u001b[39mif\u001b[39;00m \u001b[39mself\u001b[39m\u001b[39m.\u001b[39mpadding_mode \u001b[39m!=\u001b[39m \u001b[39m'\u001b[39m\u001b[39mzeros\u001b[39m\u001b[39m'\u001b[39m:\n\u001b[0;32m    456\u001b[0m     \u001b[39mreturn\u001b[39;00m F\u001b[39m.\u001b[39mconv2d(F\u001b[39m.\u001b[39mpad(\u001b[39minput\u001b[39m, \u001b[39mself\u001b[39m\u001b[39m.\u001b[39m_reversed_padding_repeated_twice, mode\u001b[39m=\u001b[39m\u001b[39mself\u001b[39m\u001b[39m.\u001b[39mpadding_mode),\n\u001b[0;32m    457\u001b[0m                     weight, bias, \u001b[39mself\u001b[39m\u001b[39m.\u001b[39mstride,\n\u001b[0;32m    458\u001b[0m                     _pair(\u001b[39m0\u001b[39m), \u001b[39mself\u001b[39m\u001b[39m.\u001b[39mdilation, \u001b[39mself\u001b[39m\u001b[39m.\u001b[39mgroups)\n\u001b[1;32m--> 459\u001b[0m \u001b[39mreturn\u001b[39;00m F\u001b[39m.\u001b[39;49mconv2d(\u001b[39minput\u001b[39;49m, weight, bias, \u001b[39mself\u001b[39;49m\u001b[39m.\u001b[39;49mstride,\n\u001b[0;32m    460\u001b[0m                 \u001b[39mself\u001b[39;49m\u001b[39m.\u001b[39;49mpadding, \u001b[39mself\u001b[39;49m\u001b[39m.\u001b[39;49mdilation, \u001b[39mself\u001b[39;49m\u001b[39m.\u001b[39;49mgroups)\n",
      "\u001b[1;31mKeyboardInterrupt\u001b[0m: "
     ]
    }
   ],
   "source": [
    "import torch.optim as optim\n",
    "\n",
    "criterion = nn.CrossEntropyLoss()\n",
    "optimizer_SGD = optim.SGD(model.parameters(), lr=0.001, momentum=0.9)\n",
    "optimizer_Adam = optim.Adam(model_1.parameters(), lr=0.001, weight_decay=1e-4) # Use Adam optimization\n",
    "n_epochs = 20\n",
    "\n",
    "train_NN(n_epochs, optimizer_SGD, model, criterion)\n",
    "train_NN(n_epochs, optimizer_Adam, model_1, criterion)\n",
    "\n",
    "# save the model after training\n",
    "path = \"models/3-layer-net.pth\"\n",
    "torch.save(model.state_dict(), path)\n",
    "\n",
    "path_1 = \"models/4-layer-net.pth\"\n",
    "torch.save(model_1.state_dict(), path)"
   ]
  },
  {
   "cell_type": "code",
   "execution_count": 8,
   "id": "8c7a44d7",
   "metadata": {},
   "outputs": [],
   "source": [
    "def get_classifier_accuracy(model):\n",
    "    correct = 0\n",
    "    total = 0\n",
    "    with torch.no_grad():\n",
    "        for data in test_loader:\n",
    "            inputs, labels = data\n",
    "            inputs = inputs.to(device)\n",
    "            labels = labels.to(device)\n",
    "            outputs = model(inputs)\n",
    "            _, predicted = torch.max(outputs.data, 1)\n",
    "            total += labels.size(0)\n",
    "            correct += (predicted == labels).sum().item()\n",
    "    return 100 * correct / total"
   ]
  },
  {
   "cell_type": "code",
   "execution_count": 1,
   "id": "ad2aa16b",
   "metadata": {},
   "outputs": [
    {
     "ename": "NameError",
     "evalue": "name 'get_classifier_accuracy' is not defined",
     "output_type": "error",
     "traceback": [
      "\u001b[1;31m---------------------------------------------------------------------------\u001b[0m",
      "\u001b[1;31mNameError\u001b[0m                                 Traceback (most recent call last)",
      "\u001b[1;32mc:\\5IF\\OT2 ML & DA\\TestDataAugmentation.ipynb Cell 10\u001b[0m line \u001b[0;36m4\n\u001b[0;32m      <a href='vscode-notebook-cell:/c%3A/5IF/OT2%20ML%20%26%20DA/TestDataAugmentation.ipynb#X12sZmlsZQ%3D%3D?line=0'>1</a>\u001b[0m \u001b[39m# model.load_state_dict(torch.load('models/3-layer-net.pth'))\u001b[39;00m\n\u001b[0;32m      <a href='vscode-notebook-cell:/c%3A/5IF/OT2%20ML%20%26%20DA/TestDataAugmentation.ipynb#X12sZmlsZQ%3D%3D?line=1'>2</a>\u001b[0m \u001b[39m# model_1.load_state_dict(torch.load('models/4-layer-net.pth'))\u001b[39;00m\n\u001b[1;32m----> <a href='vscode-notebook-cell:/c%3A/5IF/OT2%20ML%20%26%20DA/TestDataAugmentation.ipynb#X12sZmlsZQ%3D%3D?line=3'>4</a>\u001b[0m model_accuracy \u001b[39m=\u001b[39m get_classifier_accuracy(model)\n\u001b[0;32m      <a href='vscode-notebook-cell:/c%3A/5IF/OT2%20ML%20%26%20DA/TestDataAugmentation.ipynb#X12sZmlsZQ%3D%3D?line=4'>5</a>\u001b[0m model_1_accuracy \u001b[39m=\u001b[39m get_classifier_accuracy(model_1)\n\u001b[0;32m      <a href='vscode-notebook-cell:/c%3A/5IF/OT2%20ML%20%26%20DA/TestDataAugmentation.ipynb#X12sZmlsZQ%3D%3D?line=5'>6</a>\u001b[0m \u001b[39mprint\u001b[39m(\u001b[39m'\u001b[39m\u001b[39mAccuracy of the 3-layer classifier on the \u001b[39m\u001b[39m{\u001b[39m\u001b[39m%d\u001b[39;00m\u001b[39m} test images: \u001b[39m\u001b[39m{:.2f}\u001b[39;00m\u001b[39m'\u001b[39m\u001b[39m.\u001b[39mformat(model_accuracy))\n",
      "\u001b[1;31mNameError\u001b[0m: name 'get_classifier_accuracy' is not defined"
     ]
    }
   ],
   "source": [
    "# model.load_state_dict(torch.load('models/3-layer-net.pth'))\n",
    "# model_1.load_state_dict(torch.load('models/4-layer-net.pth'))\n",
    "\n",
    "model_accuracy = get_classifier_accuracy(model)\n",
    "model_1_accuracy = get_classifier_accuracy(model_1)\n",
    "print('Accuracy of the 3-layer classifier on the {%d} test images: {:.2f}'.format(test_data_size, model_accuracy))\n",
    "print('Accuracy of the 4-layer classifier on the {%d} test images: {:.2f}'.format(test_data_size, model_1_accuracy))"
   ]
  },
  {
   "cell_type": "markdown",
   "id": "421b645f",
   "metadata": {},
   "source": [
    "**Observation**\n",
    "By applying data augmentation techniques on the fly, we obtained a classifier of 98% accuracy, which is 6% higher than the one trained with original data.\n",
    "Then we added a fully-connected layer (64,32) and replaced SGD with Adam as optimization function. The accuracy of image classifier increased by 0.3%."
   ]
  },
  {
   "cell_type": "markdown",
   "id": "6d7b2e35",
   "metadata": {},
   "source": [
    "## 2. Transfer Learning\n",
    "Since RESNET18 was trained on RGB images, we do not apply GrayScale transform in pre-processing step."
   ]
  },
  {
   "cell_type": "code",
   "execution_count": 18,
   "id": "0f30a639",
   "metadata": {},
   "outputs": [],
   "source": [
    "# Define the transformations for augmentation\n",
    "data_transforms_RGB = {\n",
    "    'train': transforms.Compose([\n",
    "        transforms.RandomResizedCrop(36),\n",
    "        transforms.RandomHorizontalFlip(),\n",
    "        transforms.ToTensor(),\n",
    "        transforms.Normalize([0.485, 0.456, 0.406], [0.229, 0.224, 0.225])\n",
    "    ]),\n",
    "    'test':transforms.Compose([\n",
    "        transforms.ToTensor(), \n",
    "        transforms.Normalize([0.485, 0.456, 0.406], [0.229, 0.224, 0.225])\n",
    "    ])        \n",
    "}\n",
    "train_data_RGB = torchvision.datasets.ImageFolder(train_dir, transform=data_transforms_RGB['train'])\n",
    "test_data_RGB = torchvision.datasets.ImageFolder(test_dir, transform=data_transforms_RGB['test'])\n"
   ]
  },
  {
   "cell_type": "code",
   "execution_count": 19,
   "id": "2360ac6a",
   "metadata": {},
   "outputs": [],
   "source": [
    "train_loader = torch.utils.data.DataLoader(train_data_RGB, batch_size=batch_size, sampler=train_sampler, num_workers=5)\n",
    "valid_loader = torch.utils.data.DataLoader(train_data_RGB, batch_size=batch_size, sampler=valid_sampler, num_workers=5)\n",
    "test_loader = torch.utils.data.DataLoader(test_data_RGB, batch_size=batch_size, shuffle=True, num_workers=5)"
   ]
  },
  {
   "cell_type": "code",
   "execution_count": 20,
   "id": "f38870ae",
   "metadata": {},
   "outputs": [],
   "source": [
    "import torch.nn as nn\n",
    "model_ft = torchvision.models.resnet18(weights='IMAGENET1K_V1')\n",
    "num_ftrs = model_ft.fc.in_features\n",
    "model_ft.fc = nn.Linear(num_ftrs, 2)\n",
    "model_2 = model_ft.to(device)"
   ]
  },
  {
   "cell_type": "code",
   "execution_count": 21,
   "id": "b44456f0",
   "metadata": {},
   "outputs": [
    {
     "name": "stdout",
     "output_type": "stream",
     "text": [
      "[2,  2000] loss: 0.107\n",
      "[3,  2000] loss: 0.078\n",
      "[4,  2000] loss: 0.072\n",
      "[5,  2000] loss: 0.066\n",
      "[6,  2000] loss: 0.058\n",
      "[7,  2000] loss: 0.057\n",
      "[8,  2000] loss: 0.055\n",
      "[9,  2000] loss: 0.054\n",
      "[10,  2000] loss: 0.052\n",
      "[11,  2000] loss: 0.050\n",
      "[12,  2000] loss: 0.049\n",
      "[13,  2000] loss: 0.051\n",
      "[14,  2000] loss: 0.049\n",
      "[15,  2000] loss: 0.049\n",
      "[16,  2000] loss: 0.047\n",
      "[17,  2000] loss: 0.049\n",
      "[18,  2000] loss: 0.046\n",
      "[19,  2000] loss: 0.049\n",
      "[20,  2000] loss: 0.046\n",
      "[21,  2000] loss: 0.045\n",
      "Finished Training\n"
     ]
    }
   ],
   "source": [
    "import torch.optim as optim\n",
    "\n",
    "criterion = nn.CrossEntropyLoss()\n",
    "optimizer_Adam = optim.Adam(model_2.parameters(), lr=0.001, weight_decay=1e-4) # Use Adam optimization\n",
    "n_epochs = 20\n",
    "\n",
    "train_NN(n_epochs, optimizer_Adam, model_2, criterion)\n"
   ]
  },
  {
   "cell_type": "code",
   "execution_count": 23,
   "id": "998e425a",
   "metadata": {},
   "outputs": [
    {
     "name": "stdout",
     "output_type": "stream",
     "text": [
      "Accuracy of the pretrained RESNET18 classifier on the 7628 test images: 57.56\n"
     ]
    }
   ],
   "source": [
    "model_2_accuracy = get_classifier_accuracy(model_2)\n",
    "print('Accuracy of the pretrained RESNET18 classifier on the 7628 test images: {:.2f}'.format(model_2_accuracy))"
   ]
  }
 ],
 "metadata": {
  "kernelspec": {
   "display_name": "Python 3 (ipykernel)",
   "language": "python",
   "name": "python3"
  },
  "language_info": {
   "codemirror_mode": {
    "name": "ipython",
    "version": 3
   },
   "file_extension": ".py",
   "mimetype": "text/x-python",
   "name": "python",
   "nbconvert_exporter": "python",
   "pygments_lexer": "ipython3",
   "version": "3.11.4"
  }
 },
 "nbformat": 4,
 "nbformat_minor": 5
}
