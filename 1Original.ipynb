{
 "cells": [
  {
   "cell_type": "code",
   "execution_count": 14,
   "metadata": {},
   "outputs": [],
   "source": [
    "import numpy as np\n",
    "import torch\n",
    "import torchvision\n",
    "import torchvision.transforms as transforms\n",
    "\n",
    "train_dir = './train_images'\n",
    "test_dir = './test_images'\n",
    "\n",
    "transform = transforms.Compose(\n",
    "    [transforms.Grayscale(),\n",
    "     transforms.ToTensor(),\n",
    "     transforms.Normalize(mean=(0,),std=(1,))])\n",
    "\n",
    "train_data = torchvision.datasets.ImageFolder(train_dir, transform=transform)\n",
    "test_data = torchvision.datasets.ImageFolder(test_dir, transform=transform)\n",
    "\n",
    "train_data_size = len(train_data)\n",
    "test_data_size = len(test_data)"
   ]
  },
  {
   "cell_type": "markdown",
   "metadata": {},
   "source": [
    "## Visualise the data"
   ]
  },
  {
   "cell_type": "code",
   "execution_count": 5,
   "metadata": {},
   "outputs": [
    {
     "data": {
      "image/png": "[encoded data removed]",
      "text/plain": [
       "<Figure size 1500x300 with 5 Axes>"
      ]
     },
     "metadata": {},
     "output_type": "display_data"
    }
   ],
   "source": [
    "from PIL import Image\n",
    "import os\n",
    "import matplotlib.pyplot as plt\n",
    "\n",
    "# Directory containing the .pgm images\n",
    "directory = './train_images/1'\n",
    "\n",
    "# List all the .pgm files in the directory\n",
    "pgm_files = [f for f in os.listdir(directory) if f.endswith('.pgm')]\n",
    "\n",
    "# Define the number of images you want to display\n",
    "num_images_to_display = min(5, len(pgm_files))\n",
    "\n",
    "# Create a subplot for the grid of images\n",
    "fig, axes = plt.subplots(1, num_images_to_display, figsize=(15, 3))\n",
    "\n",
    "# Loop through and display the selected number of .pgm images\n",
    "for i in range(num_images_to_display):\n",
    "    image_path = os.path.join(directory, pgm_files[i])\n",
    "    \n",
    "    # Open the .pgm image using PIL (Pillow)\n",
    "    image = Image.open(image_path)\n",
    "    \n",
    "    # Display the image on the current subplot\n",
    "    axes[i].imshow(image, cmap='gray')\n",
    "    axes[i].set_title(f\"Image {i+1}\")\n",
    "    axes[i].axis('off')  # Turn off axis labels\n",
    "\n",
    "plt.show()\n"
   ]
  },
  {
   "cell_type": "code",
   "execution_count": 2,
   "metadata": {},
   "outputs": [],
   "source": [
    "from torch.utils.data.sampler import SubsetRandomSampler\n",
    "\n",
    "valid_size = 0.2\n",
    "batch_size = 32\n",
    "seed = 42\n",
    "np.random.seed(seed)\n",
    "torch.manual_seed(seed)\n",
    "\n",
    "num_train = len(train_data)\n",
    "indices_train = list(range(num_train))\n",
    "np.random.shuffle(indices_train)\n",
    "split_tv = int(np.floor(valid_size * num_train))\n",
    "train_new_idx, valid_idx = indices_train[split_tv:],indices_train[:split_tv]\n",
    "\n",
    "train_sampler = SubsetRandomSampler(train_new_idx)\n",
    "valid_sampler = SubsetRandomSampler(valid_idx)\n",
    "\n",
    "train_loader = torch.utils.data.DataLoader(train_data, batch_size=batch_size, sampler=train_sampler, num_workers=5)\n",
    "valid_loader = torch.utils.data.DataLoader(train_data, batch_size=batch_size, sampler=valid_sampler, num_workers=5)\n",
    "test_loader = torch.utils.data.DataLoader(test_data, batch_size=batch_size, shuffle=True, num_workers=5)\n",
    "classes = ('noface','face')"
   ]
  },
  {
   "cell_type": "code",
   "execution_count": 3,
   "metadata": {},
   "outputs": [],
   "source": [
    "# Set device\n",
    "device = torch.device(\"cuda\" if torch.cuda.is_available() else \"cpu\")"
   ]
  },
  {
   "cell_type": "code",
   "execution_count": 4,
   "metadata": {},
   "outputs": [],
   "source": [
    "import torch.nn as nn\n",
    "import torch.nn.functional as F\n",
    "\n",
    "\n",
    "class Net(nn.Module):\n",
    "    def __init__(self):\n",
    "        super(Net, self).__init__()\n",
    "        self.conv1 = nn.Conv2d(1, 6, 5)\n",
    "        self.pool = nn.MaxPool2d(2, 2)\n",
    "        self.conv2 = nn.Conv2d(6, 16, 5)\n",
    "        self.fc1 = nn.Linear(16 * 6 * 6, 32)\n",
    "        self.fc2 = nn.Linear(32, 16)\n",
    "        self.fc3 = nn.Linear(16, 2)\n",
    "\n",
    "    def forward(self, x):\n",
    "        x = self.pool(F.relu(self.conv1(x)))\n",
    "        x = self.pool(F.relu(self.conv2(x)))\n",
    "        x = x.view(-1, 16 * 6 * 6)\n",
    "        x = F.relu(self.fc1(x))\n",
    "        x = F.relu(self.fc2(x))\n",
    "        x = self.fc3(x)\n",
    "        return x\n",
    "\n",
    "model_3_layers_no_augmentation = Net().to(device)"
   ]
  },
  {
   "cell_type": "code",
   "execution_count": 6,
   "metadata": {},
   "outputs": [],
   "source": [
    "def train_NN(n_epochs, optimizer, model, criterion):\n",
    "    for epoch in range(1, n_epochs+1):  # loop over the dataset multiple times\n",
    "        running_loss = 0.0\n",
    "        for i, data in enumerate(train_loader, 0):\n",
    "            # get the inputs; data is a list of [inputs, labels]\n",
    "            inputs, labels = data\n",
    "            inputs = inputs.to(device)\n",
    "            labels = labels.to(device)\n",
    "            # zero the parameter gradients\n",
    "            optimizer.zero_grad()\n",
    "\n",
    "            # forward + backward + optimize\n",
    "            outputs = model(inputs)\n",
    "            loss = criterion(outputs, labels)\n",
    "            loss.backward()\n",
    "            optimizer.step()\n",
    "\n",
    "            running_loss += loss.item()\n",
    "\n",
    "        # print statistics after every epoch\n",
    "        print(f'[{epoch}, {i + 1:5d}] loss: {running_loss / len(train_loader):.3f}')\n",
    "\n",
    "    print('Finished Training')"
   ]
  },
  {
   "cell_type": "code",
   "execution_count": 13,
   "metadata": {},
   "outputs": [
    {
     "name": "stdout",
     "output_type": "stream",
     "text": [
      "[1,  2293] loss: 0.600\n",
      "[2,  2293] loss: 0.229\n",
      "[3,  2293] loss: 0.115\n",
      "[4,  2293] loss: 0.078\n",
      "[5,  2293] loss: 0.057\n",
      "[6,  2293] loss: 0.045\n",
      "[7,  2293] loss: 0.037\n",
      "[8,  2293] loss: 0.032\n",
      "[9,  2293] loss: 0.027\n",
      "[10,  2293] loss: 0.024\n",
      "[11,  2293] loss: 0.021\n",
      "[12,  2293] loss: 0.018\n",
      "[13,  2293] loss: 0.017\n",
      "[14,  2293] loss: 0.016\n",
      "[15,  2293] loss: 0.014\n",
      "[16,  2293] loss: 0.012\n",
      "[17,  2293] loss: 0.011\n",
      "[18,  2293] loss: 0.010\n",
      "[19,  2293] loss: 0.008\n",
      "[20,  2293] loss: 0.009\n",
      "Finished Training\n"
     ]
    }
   ],
   "source": [
    "import torch.optim as optim\n",
    "\n",
    "criterion = nn.CrossEntropyLoss()\n",
    "optimizer_SGD = optim.SGD(model_3_layers_no_augmentation.parameters(), lr=0.001, momentum=0.9)\n",
    "n_epochs = 20\n",
    "\n",
    "train_NN(n_epochs, optimizer_SGD, model_3_layers_no_augmentation, criterion)\n",
    "\n",
    "# save the model after training\n",
    "PATH = 'models/original.pth'\n",
    "torch.save(model_3_layers_no_augmentation.state_dict(), PATH)"
   ]
  },
  {
   "cell_type": "code",
   "execution_count": 5,
   "metadata": {},
   "outputs": [],
   "source": [
    "def get_classifier_accuracy(model):\n",
    "    # number of no face and face images in the test dataset\n",
    "    NO_FACE = 6831\n",
    "    FACE = 797\n",
    "\n",
    "    correct = 0\n",
    "    correct_no_face = 0\n",
    "    correct_has_face = 1\n",
    "    total = 0\n",
    "    with torch.no_grad():\n",
    "        for data in test_loader:\n",
    "            inputs, labels = data\n",
    "            inputs = inputs.to(device)\n",
    "            labels = labels.to(device)\n",
    "            outputs = model(inputs)\n",
    "            _, predicted = torch.max(outputs.data, 1)\n",
    "            total += labels.size(0)\n",
    "            correct_no_face += ((predicted == 0) & (labels == 0)).sum().item()\n",
    "            correct_has_face += ((predicted == 1) & (labels == 1)).sum().item()\n",
    "            correct += (predicted == labels).sum().item()\n",
    "    \n",
    "    print(\"correct no face = {:.2f}, has face = {:.2f}\".format(100 * correct_no_face / NO_FACE, 100 * correct_has_face / FACE))\n",
    "\n",
    "    return 100 * correct / total"
   ]
  },
  {
   "cell_type": "code",
   "execution_count": 6,
   "metadata": {},
   "outputs": [
    {
     "name": "stdout",
     "output_type": "stream",
     "text": [
      "correct no face = 99.30, has face = 36.76\n",
      "Accuracy of the 3-layer no augmentation classifier on the 7628 test images: 92.75\n"
     ]
    }
   ],
   "source": [
    "model_3_layers_no_augmentation.load_state_dict(torch.load('models/original.pth'))\n",
    "\n",
    "model_accuracy = get_classifier_accuracy(model_3_layers_no_augmentation)\n",
    "print('Accuracy of the 3-layer no augmentation classifier on the {} test images: {:.2f}'.format(test_data_size, model_accuracy))"
   ]
  },
  {
   "cell_type": "markdown",
   "metadata": {},
   "source": [
    "We notice that during the training, the loss value decrease very quickly, from epoch 9 it almost doesn't change. It suggests that the model might be overfitting"
   ]
  },
  {
   "cell_type": "code",
   "execution_count": 10,
   "metadata": {},
   "outputs": [
    {
     "name": "stdout",
     "output_type": "stream",
     "text": [
      "[1,  2293] loss: 0.600\n",
      "[2,  2293] loss: 0.229\n",
      "[3,  2293] loss: 0.115\n",
      "[4,  2293] loss: 0.078\n",
      "[5,  2293] loss: 0.057\n",
      "[6,  2293] loss: 0.045\n",
      "[7,  2293] loss: 0.037\n",
      "[8,  2293] loss: 0.032\n",
      "[9,  2293] loss: 0.027\n",
      "Finished Training\n"
     ]
    }
   ],
   "source": [
    "import torch.optim as optim\n",
    "\n",
    "# retrain with 9 epochs\n",
    "criterion = nn.CrossEntropyLoss()\n",
    "optimizer_SGD = optim.SGD(model_3_layers_no_augmentation.parameters(), lr=0.001, momentum=0.9)\n",
    "n_epochs_2 = 9\n",
    "\n",
    "train_NN(n_epochs_2, optimizer_SGD, model_3_layers_no_augmentation, criterion)"
   ]
  },
  {
   "cell_type": "code",
   "execution_count": 11,
   "metadata": {},
   "outputs": [
    {
     "name": "stdout",
     "output_type": "stream",
     "text": [
      "Accuracy of the 3-layer no augmentation classifier on the 7628 test images: 91.41\n"
     ]
    }
   ],
   "source": [
    "model_accuracy_2 = get_classifier_accuracy(model_3_layers_no_augmentation)\n",
    "print('Accuracy of the 3-layer no augmentation classifier on the {} test images: {:.2f}'.format(test_data_size, model_accuracy_2))"
   ]
  },
  {
   "cell_type": "markdown",
   "metadata": {},
   "source": [
    "The accuracy is lower with lower epoch, so that's about how good this model is"
   ]
  }
 ],
 "metadata": {
  "kernelspec": {
   "display_name": "Python 3 (ipykernel)",
   "language": "python",
   "name": "python3"
  },
  "language_info": {
   "codemirror_mode": {
    "name": "ipython",
    "version": 3
   },
   "file_extension": ".py",
   "mimetype": "text/x-python",
   "name": "python",
   "nbconvert_exporter": "python",
   "pygments_lexer": "ipython3",
   "version": "3.11.4"
  }
 },
 "nbformat": 4,
 "nbformat_minor": 2
}
