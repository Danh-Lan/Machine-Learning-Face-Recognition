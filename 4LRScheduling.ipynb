{
 "cells": [
  {
   "cell_type": "markdown",
   "id": "63bb9d64",
   "metadata": {},
   "source": [
    "# Image classifiers training\n",
    "## 1. Data Augmentation"
   ]
  },
  {
   "cell_type": "code",
   "execution_count": 1,
   "id": "2dbf2c4e",
   "metadata": {},
   "outputs": [],
   "source": [
    "import numpy as np\n",
    "import torch\n",
    "import torchvision\n",
    "import torchvision.transforms as transforms\n",
    "\n",
    "train_dir = './train_images'\n",
    "test_dir = './test_images'\n",
    "\n",
    "# Define the transformations for augmentation\n",
    "data_transforms = {\n",
    "    'train': transforms.Compose([\n",
    "        transforms.Grayscale(), \n",
    "        transforms.RandomResizedCrop(36),\n",
    "        transforms.RandomHorizontalFlip(),\n",
    "        transforms.ToTensor(),\n",
    "        transforms.Normalize(mean=(0,),std=(1,))\n",
    "    ]),\n",
    "    'test':transforms.Compose([\n",
    "        transforms.Grayscale(),\n",
    "        transforms.ToTensor(),\n",
    "        transforms.Normalize(mean=(0,),std=(1,))\n",
    "    ])        \n",
    "}\n",
    "train_data = torchvision.datasets.ImageFolder(train_dir, transform=data_transforms['train'])\n",
    "test_data = torchvision.datasets.ImageFolder(test_dir, transform=data_transforms['test'])\n",
    "\n",
    "train_data_size = len(train_data)\n",
    "test_data_size = len(test_data)"
   ]
  },
  {
   "cell_type": "code",
   "execution_count": 2,
   "id": "23e0fcdd",
   "metadata": {},
   "outputs": [],
   "source": [
    "# Set device\n",
    "device = torch.device(\"cuda\" if torch.cuda.is_available() else \"cpu\")"
   ]
  },
  {
   "cell_type": "code",
   "execution_count": 3,
   "id": "0c412e06",
   "metadata": {},
   "outputs": [],
   "source": [
    "from torch.utils.data.sampler import SubsetRandomSampler\n",
    "\n",
    "valid_size = 0.2\n",
    "batch_size = 32\n",
    "seed = 42\n",
    "np.random.seed(seed)\n",
    "torch.manual_seed(seed)\n",
    "\n",
    "num_train = len(train_data)\n",
    "indices_train = list(range(num_train))\n",
    "np.random.shuffle(indices_train)\n",
    "split_tv = int(np.floor(valid_size * num_train))\n",
    "train_new_idx, valid_idx = indices_train[split_tv:],indices_train[:split_tv]\n",
    "\n",
    "train_sampler = SubsetRandomSampler(train_new_idx)\n",
    "valid_sampler = SubsetRandomSampler(valid_idx)\n",
    "\n",
    "train_loader = torch.utils.data.DataLoader(train_data, batch_size=batch_size, sampler=train_sampler, num_workers=5)\n",
    "valid_loader = torch.utils.data.DataLoader(train_data, batch_size=batch_size, sampler=valid_sampler, num_workers=5)\n",
    "test_loader = torch.utils.data.DataLoader(test_data, batch_size=batch_size, shuffle=True, num_workers=5)\n",
    "classes = ('noface','face')"
   ]
  },
  {
   "cell_type": "code",
   "execution_count": 4,
   "id": "f92e0ecb",
   "metadata": {},
   "outputs": [],
   "source": [
    "import torch.nn as nn\n",
    "import torch.nn.functional as F\n",
    "\n",
    "\n",
    "class Net_4_layers(nn.Module):\n",
    "    def __init__(self):\n",
    "        super(Net_4_layers, self).__init__()\n",
    "        self.conv1 = nn.Conv2d(1, 6, 5)\n",
    "        self.pool = nn.MaxPool2d(2, 2)\n",
    "        self.conv2 = nn.Conv2d(6, 16, 5)\n",
    "        self.fc1 = nn.Linear(16 * 6 * 6, 64)\n",
    "        self.fc2 = nn.Linear(64, 32)\n",
    "        self.fc3 = nn.Linear(32, 16) # Add a new fully connected layer\n",
    "        self.fc4 = nn.Linear(16, 2)\n",
    "\n",
    "    def forward(self, x):\n",
    "        x = self.pool(F.relu(self.conv1(x)))\n",
    "        x = self.pool(F.relu(self.conv2(x)))\n",
    "        x = x.view(-1, 16 * 6 * 6)\n",
    "        x = F.relu(self.fc1(x))\n",
    "        x = F.relu(self.fc2(x))\n",
    "        x = F.relu(self.fc3(x))\n",
    "        x = self.fc4(x)\n",
    "        return x\n",
    "\n",
    "model_1 = Net_4_layers().to(device)"
   ]
  },
  {
   "cell_type": "code",
   "execution_count": 5,
   "id": "d377eeb6",
   "metadata": {},
   "outputs": [],
   "source": [
    "def train_NN(n_epochs, optimizer, model, criterion, early_stop_value, scheduler):\n",
    "    EPOCHS_WAIT_BEFORE_EARLY_STOPPING = 5 # tolerate some epoch with no improvement to avoid local minimum\n",
    "    epochs_count = 0\n",
    "\n",
    "    for epoch in range(1, n_epochs+1):  # loop over the dataset multiple times\n",
    "        running_loss = 0.0\n",
    "        for i, data in enumerate(train_loader, 0):\n",
    "            # get the inputs; data is a list of [inputs, labels]\n",
    "            inputs, labels = data\n",
    "            inputs = inputs.to(device)\n",
    "            labels = labels.to(device)\n",
    "            # zero the parameter gradients\n",
    "            optimizer.zero_grad()\n",
    "\n",
    "            # forward + backward + optimize\n",
    "            outputs = model(inputs)\n",
    "            loss = criterion(outputs, labels)\n",
    "            loss.backward()\n",
    "            optimizer.step()\n",
    "\n",
    "            running_loss += loss.item()\n",
    "        \n",
    "        loss_average = running_loss / len(train_loader)\n",
    "        print(f'Epoch [{epoch}/{n_epochs}], Batch [{i + 1}/{len(train_loader)}], Loss: {loss_average:.3f}, Learning Rate: {scheduler.get_last_lr()[0]:.6f}')\n",
    "        \n",
    "        # stop the training if the loss is lower than the threshold\n",
    "        if (loss_average < early_stop_value):\n",
    "            epochs_count = epochs_count + 1\n",
    "            if (epochs_count == EPOCHS_WAIT_BEFORE_EARLY_STOPPING):\n",
    "                break\n",
    "\n",
    "        scheduler.step()\n",
    "\n",
    "    print('Finished Training')"
   ]
  },
  {
   "cell_type": "code",
   "execution_count": null,
   "id": "d59e8cd1",
   "metadata": {},
   "outputs": [],
   "source": [
    "import torch.optim as optim\n",
    "from torch.optim.lr_scheduler import StepLR\n",
    "\n",
    "criterion = nn.CrossEntropyLoss()\n",
    "optimizer_Adam = optim.Adam(model_1.parameters(), lr=0.001, weight_decay=1e-4)\n",
    "scheduler = StepLR(optimizer_Adam, step_size=5, gamma=0.8)\n",
    "\n",
    "n_epochs = 30\n",
    "early_stop_value = 0.1\n",
    "\n",
    "train_NN(n_epochs, optimizer_Adam, model_1, criterion, early_stop_value, scheduler)\n",
    "\n",
    "# save the model after training\n",
    "# path_1 = \"models/4-layer-lr-scheduling-net.pth\"\n",
    "# torch.save(model_1.state_dict(), path_1)"
   ]
  },
  {
   "cell_type": "code",
   "execution_count": 5,
   "id": "8c7a44d7",
   "metadata": {},
   "outputs": [],
   "source": [
    "def get_classifier_accuracy(model):\n",
    "    # number of no face and face images in the test dataset\n",
    "    NO_FACE = 6831\n",
    "    FACE = 797\n",
    "\n",
    "    correct = 0\n",
    "    correct_no_face = 0\n",
    "    correct_has_face = 1\n",
    "    total = 0\n",
    "    with torch.no_grad():\n",
    "        for data in test_loader:\n",
    "            inputs, labels = data\n",
    "            inputs = inputs.to(device)\n",
    "            labels = labels.to(device)\n",
    "            outputs = model(inputs)\n",
    "            _, predicted = torch.max(outputs.data, 1)\n",
    "            total += labels.size(0)\n",
    "            correct_no_face += ((predicted == 0) & (labels == 0)).sum().item()\n",
    "            correct_has_face += ((predicted == 1) & (labels == 1)).sum().item()\n",
    "            correct += (predicted == labels).sum().item()\n",
    "    \n",
    "    print(\"correct no face = {:.2f}, has face = {:.2f}\".format(100 * correct_no_face / NO_FACE, 100 * correct_has_face / FACE))\n",
    "\n",
    "    return 100 * correct / total"
   ]
  },
  {
   "cell_type": "code",
   "execution_count": 6,
   "id": "ad2aa16b",
   "metadata": {},
   "outputs": [
    {
     "name": "stdout",
     "output_type": "stream",
     "text": [
      "correct no face = 99.00, has face = 89.84\n",
      "Accuracy of the 4-layer classifier on the 7628 test images: 98.03\n"
     ]
    }
   ],
   "source": [
    "model_1.load_state_dict(torch.load('models/4-layer-lr-scheduling-net.pth'))\n",
    "\n",
    "model_1_accuracy = get_classifier_accuracy(model_1)\n",
    "print('Accuracy of the 4-layer classifier on the {} test images: {:.2f}'.format(test_data_size, model_1_accuracy))"
   ]
  }
 ],
 "metadata": {
  "kernelspec": {
   "display_name": "Python 3 (ipykernel)",
   "language": "python",
   "name": "python3"
  },
  "language_info": {
   "codemirror_mode": {
    "name": "ipython",
    "version": 3
   },
   "file_extension": ".py",
   "mimetype": "text/x-python",
   "name": "python",
   "nbconvert_exporter": "python",
   "pygments_lexer": "ipython3",
   "version": "3.11.4"
  }
 },
 "nbformat": 4,
 "nbformat_minor": 5
}
