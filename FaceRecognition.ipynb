{
 "cells": [
  {
   "cell_type": "code",
   "execution_count": 15,
   "id": "71caa450",
   "metadata": {},
   "outputs": [],
   "source": [
    "import torch\n",
    "import torch.nn as nn\n",
    "import torchvision.transforms as transforms\n",
    "from PIL import Image\n",
    "import numpy as np\n",
    "import cv2"
   ]
  },
  {
   "cell_type": "code",
   "execution_count": 16,
   "id": "d151c827",
   "metadata": {},
   "outputs": [],
   "source": [
    "class Net_4_layers(nn.Module):\n",
    "    def __init__(self):\n",
    "        super(Net_4_layers, self).__init__()\n",
    "        self.conv1 = nn.Conv2d(1, 6, 5)\n",
    "        self.pool = nn.MaxPool2d(2, 2)\n",
    "        self.conv2 = nn.Conv2d(6, 16, 5)\n",
    "        self.fc1 = nn.Linear(16 * 6 * 6, 64)\n",
    "        self.fc2 = nn.Linear(64, 32)\n",
    "        self.fc3 = nn.Linear(32, 16) # Add a new fully connected layer\n",
    "        self.fc4 = nn.Linear(16, 2)\n",
    "\n",
    "    def forward(self, x):\n",
    "        x = self.pool(F.relu(self.conv1(x)))\n",
    "        x = self.pool(F.relu(self.conv2(x)))\n",
    "        x = x.view(-1, 16 * 6 * 6)\n",
    "        x = F.relu(self.fc1(x))\n",
    "        x = F.relu(self.fc2(x))\n",
    "        x = F.relu(self.fc3(x))\n",
    "        x = self.fc4(x)\n",
    "        return x"
   ]
  },
  {
   "cell_type": "code",
   "execution_count": 17,
   "id": "467c6664",
   "metadata": {},
   "outputs": [
    {
     "data": {
      "text/plain": [
       "Net_4_layers(\n",
       "  (conv1): Conv2d(1, 6, kernel_size=(5, 5), stride=(1, 1))\n",
       "  (pool): MaxPool2d(kernel_size=2, stride=2, padding=0, dilation=1, ceil_mode=False)\n",
       "  (conv2): Conv2d(6, 16, kernel_size=(5, 5), stride=(1, 1))\n",
       "  (fc1): Linear(in_features=576, out_features=64, bias=True)\n",
       "  (fc2): Linear(in_features=64, out_features=32, bias=True)\n",
       "  (fc3): Linear(in_features=32, out_features=16, bias=True)\n",
       "  (fc4): Linear(in_features=16, out_features=2, bias=True)\n",
       ")"
      ]
     },
     "execution_count": 17,
     "metadata": {},
     "output_type": "execute_result"
    }
   ],
   "source": [
    "# Load your pre-trained image classifier model\n",
    "# Replace 'your_model.pth' with the path to your model file\n",
    "model_1.load_state_dict(torch.load('models/4-layer-net.pth'))\n",
    "model_1.eval()"
   ]
  },
  {
   "cell_type": "code",
   "execution_count": null,
   "id": "585c7134",
   "metadata": {},
   "outputs": [],
   "source": [
    "# Define the sliding window parameters\n",
    "window_size = (100, 100)  # Size of the sliding window\n",
    "step_size = 20  # Step size for moving the window\n"
   ]
  },
  {
   "cell_type": "code",
   "execution_count": null,
   "id": "86fec368",
   "metadata": {},
   "outputs": [],
   "source": [
    "# Load the target image\n",
    "image_path = 'target_image.jpg'  # Replace with your image path\n",
    "image = Image.open(image_path)"
   ]
  },
  {
   "cell_type": "code",
   "execution_count": null,
   "id": "f577b1ac",
   "metadata": {},
   "outputs": [],
   "source": [
    "# Create an image transform (resize, normalize, etc.) to match the model's input requirements\n",
    "transform = transforms.Compose([\n",
    "    transforms.Resize((224, 224)),  # Adjust to match the model's input size\n",
    "    transforms.ToTensor(),\n",
    "    transforms.Normalize(mean=[0.485, 0.456, 0.406], std=[0.229, 0.224, 0.225])  # Adjust these values\n",
    "])\n",
    "\n",
    "# Convert the image to a PyTorch tensor and apply the transformation\n",
    "image_tensor = transform(image).unsqueeze(0)  # Add batch dimension\n",
    "\n",
    "# Get the dimensions of the target image\n",
    "img_width, img_height = image.size"
   ]
  },
  {
   "cell_type": "code",
   "execution_count": null,
   "id": "5d165f70",
   "metadata": {},
   "outputs": [],
   "source": [
    "# Initialize an empty list to store the bounding box coordinates of detected faces\n",
    "face_boxes = []\n",
    "\n",
    "# Perform sliding window detection\n",
    "for y in range(0, img_height - window_size[1], step_size):\n",
    "    for x in range(0, img_width - window_size[0], step_size):\n",
    "        # Extract the sub-image using the sliding window\n",
    "        sub_image = image_tensor[:, :, y:y+window_size[1], x:x+window_size[0]]\n",
    "\n",
    "        # Pass the sub-image through your pre-trained model for classification\n",
    "        with torch.no_grad():\n",
    "            output = model(sub_image)\n",
    "\n",
    "        # Assuming your model outputs a probability (0-1) for face presence\n",
    "        confidence = output.item()\n",
    "\n",
    "        # Define a confidence threshold\n",
    "        confidence_threshold = 0.9  # Adjust as needed\n",
    "\n",
    "        if confidence > confidence_threshold:\n",
    "            # Calculate the coordinates of the bounding box\n",
    "            left = x\n",
    "            top = y\n",
    "            right = x + window_size[0]\n",
    "            bottom = y + window_size[1]\n",
    "            face_boxes.append((left, top, right, bottom))\n",
    "\n",
    "# Optionally, apply non-maximum suppression to remove duplicate boxes"
   ]
  },
  {
   "cell_type": "code",
   "execution_count": null,
   "id": "1d1a7a82",
   "metadata": {},
   "outputs": [],
   "source": [
    "# Visualize the detected faces on the original image using OpenCV\n",
    "image_cv = cv2.imread(image_path)\n",
    "for box in face_boxes:\n",
    "    cv2.rectangle(image_cv, (box[0], box[1]), (box[2], box[3]), (0, 255, 0), 2)\n",
    "\n",
    "# Display or save the image with bounding boxes\n",
    "cv2.imshow('Detected Faces', image_cv)\n",
    "cv2.waitKey(0)\n",
    "cv2.destroyAllWindows()"
   ]
  }
 ],
 "metadata": {
  "kernelspec": {
   "display_name": "Python 3 (ipykernel)",
   "language": "python",
   "name": "python3"
  },
  "language_info": {
   "codemirror_mode": {
    "name": "ipython",
    "version": 3
   },
   "file_extension": ".py",
   "mimetype": "text/x-python",
   "name": "python",
   "nbconvert_exporter": "python",
   "pygments_lexer": "ipython3",
   "version": "3.9.12"
  }
 },
 "nbformat": 4,
 "nbformat_minor": 5
}
