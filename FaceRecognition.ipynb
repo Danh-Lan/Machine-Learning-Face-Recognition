{
 "cells": [
  {
   "cell_type": "code",
   "execution_count": 3,
   "id": "71caa450",
   "metadata": {},
   "outputs": [],
   "source": [
    "import torch\n",
    "import torch.nn as nn\n",
    "import torchvision.transforms as transforms\n",
    "from PIL import Image\n",
    "import numpy as np\n",
    "import cv2"
   ]
  },
  {
   "cell_type": "code",
   "execution_count": 7,
   "id": "d151c827",
   "metadata": {},
   "outputs": [],
   "source": [
    "import torch.nn as nn\n",
    "import torch.nn.functional as F\n",
    "\n",
    "\n",
    "class Net_4_layers(nn.Module):\n",
    "    def __init__(self):\n",
    "        super(Net_4_layers, self).__init__()\n",
    "        self.conv1 = nn.Conv2d(1, 6, 5)\n",
    "        self.pool = nn.MaxPool2d(2, 2)\n",
    "        self.conv2 = nn.Conv2d(6, 16, 5)\n",
    "        self.fc1 = nn.Linear(16 * 6 * 6, 64)\n",
    "        self.fc2 = nn.Linear(64, 32)\n",
    "        self.fc3 = nn.Linear(32, 16) # Add a new fully connected layer\n",
    "        self.fc4 = nn.Linear(16, 2)\n",
    "\n",
    "    def forward(self, x):\n",
    "        x = self.pool(F.relu(self.conv1(x)))\n",
    "        x = self.pool(F.relu(self.conv2(x)))\n",
    "        x = x.view(-1, 16 * 6 * 6)\n",
    "        x = F.relu(self.fc1(x))\n",
    "        x = F.relu(self.fc2(x))\n",
    "        x = F.relu(self.fc3(x))\n",
    "        x = self.fc4(x)\n",
    "        return x\n",
    "\n",
    "model_1 = Net_4_layers().to(device)"
   ]
  },
  {
   "cell_type": "code",
   "execution_count": 8,
   "id": "467c6664",
   "metadata": {},
   "outputs": [
    {
     "data": {
      "text/plain": [
       "Net_4_layers(\n",
       "  (conv1): Conv2d(1, 6, kernel_size=(5, 5), stride=(1, 1))\n",
       "  (pool): MaxPool2d(kernel_size=2, stride=2, padding=0, dilation=1, ceil_mode=False)\n",
       "  (conv2): Conv2d(6, 16, kernel_size=(5, 5), stride=(1, 1))\n",
       "  (fc1): Linear(in_features=576, out_features=64, bias=True)\n",
       "  (fc2): Linear(in_features=64, out_features=32, bias=True)\n",
       "  (fc3): Linear(in_features=32, out_features=16, bias=True)\n",
       "  (fc4): Linear(in_features=16, out_features=2, bias=True)\n",
       ")"
      ]
     },
     "execution_count": 8,
     "metadata": {},
     "output_type": "execute_result"
    }
   ],
   "source": [
    "# Load your pre-trained image classifier model\n",
    "# Replace 'your_model.pth' with the path to your model file\n",
    "model_1.load_state_dict(torch.load('models/4-layer-net.pth'))\n",
    "model_1.eval()"
   ]
  },
  {
   "cell_type": "code",
   "execution_count": 26,
   "id": "585c7134",
   "metadata": {},
   "outputs": [],
   "source": [
    "# Define the sliding window parameters\n",
    "window_size = (6, 6)  # Size of the sliding window\n",
    "step_size = 3  # Step size for moving the window"
   ]
  },
  {
   "cell_type": "code",
   "execution_count": 29,
   "id": "86fec368",
   "metadata": {},
   "outputs": [
    {
     "name": "stdout",
     "output_type": "stream",
     "text": [
      "tensor([[[[0.6549, 0.6549, 0.6510,  ..., 0.6941, 0.6706, 0.6549],\n",
      "          [0.6510, 0.6510, 0.6510,  ..., 0.7020, 0.6902, 0.6824],\n",
      "          [0.6471, 0.6471, 0.6471,  ..., 0.7020, 0.7020, 0.7020],\n",
      "          ...,\n",
      "          [0.7020, 0.6784, 0.6588,  ..., 0.7333, 0.7216, 0.7059],\n",
      "          [0.6863, 0.6824, 0.6745,  ..., 0.7451, 0.7294, 0.7137],\n",
      "          [0.6706, 0.6824, 0.6902,  ..., 0.7647, 0.7490, 0.7333]]]]) 1024 1024\n"
     ]
    }
   ],
   "source": [
    "# Load the target image\n",
    "image_path = 'target_image.jpg'  # Replace with your image path\n",
    "image = Image.open(image_path)\n",
    "\n",
    "# Create an image transform (resize, normalize, etc.) to match the model's input requirements\n",
    "transform = transforms.Compose([\n",
    "        transforms.Grayscale(),\n",
    "        transforms.ToTensor(),\n",
    "        transforms.Normalize(mean=(0,),std=(1,))\n",
    "])\n",
    "\n",
    "# Convert the image to a PyTorch tensor and apply the transformation\n",
    "image_tensor = transform(image).unsqueeze(0)  # Add batch dimension\n",
    "\n",
    "# Get the dimensions of the target image\n",
    "img_width, img_height = image.size"
   ]
  },
  {
   "cell_type": "code",
   "execution_count": 27,
   "id": "5d165f70",
   "metadata": {},
   "outputs": [
    {
     "ename": "IndexError",
     "evalue": "too many indices for tensor of dimension 3",
     "output_type": "error",
     "traceback": [
      "\u001b[1;31m---------------------------------------------------------------------------\u001b[0m",
      "\u001b[1;31mIndexError\u001b[0m                                Traceback (most recent call last)",
      "\u001b[1;32mc:\\5IF\\OT2 ML & DA\\FaceRecognition.ipynb Cell 7\u001b[0m line \u001b[0;36m8\n\u001b[0;32m      <a href='vscode-notebook-cell:/c%3A/5IF/OT2%20ML%20%26%20DA/FaceRecognition.ipynb#W6sZmlsZQ%3D%3D?line=4'>5</a>\u001b[0m \u001b[39mfor\u001b[39;00m y \u001b[39min\u001b[39;00m \u001b[39mrange\u001b[39m(\u001b[39m0\u001b[39m, img_height \u001b[39m-\u001b[39m window_size[\u001b[39m1\u001b[39m], step_size):\n\u001b[0;32m      <a href='vscode-notebook-cell:/c%3A/5IF/OT2%20ML%20%26%20DA/FaceRecognition.ipynb#W6sZmlsZQ%3D%3D?line=5'>6</a>\u001b[0m     \u001b[39mfor\u001b[39;00m x \u001b[39min\u001b[39;00m \u001b[39mrange\u001b[39m(\u001b[39m0\u001b[39m, img_width \u001b[39m-\u001b[39m window_size[\u001b[39m0\u001b[39m], step_size):\n\u001b[0;32m      <a href='vscode-notebook-cell:/c%3A/5IF/OT2%20ML%20%26%20DA/FaceRecognition.ipynb#W6sZmlsZQ%3D%3D?line=6'>7</a>\u001b[0m         \u001b[39m# Extract the sub-image using the sliding window\u001b[39;00m\n\u001b[1;32m----> <a href='vscode-notebook-cell:/c%3A/5IF/OT2%20ML%20%26%20DA/FaceRecognition.ipynb#W6sZmlsZQ%3D%3D?line=7'>8</a>\u001b[0m         sub_image \u001b[39m=\u001b[39m image_tensor[:, :, y:y\u001b[39m+\u001b[39;49mwindow_size[\u001b[39m1\u001b[39;49m], x:x\u001b[39m+\u001b[39;49mwindow_size[\u001b[39m0\u001b[39;49m]]\n\u001b[0;32m      <a href='vscode-notebook-cell:/c%3A/5IF/OT2%20ML%20%26%20DA/FaceRecognition.ipynb#W6sZmlsZQ%3D%3D?line=8'>9</a>\u001b[0m         \u001b[39mprint\u001b[39m(sub_image)\n\u001b[0;32m     <a href='vscode-notebook-cell:/c%3A/5IF/OT2%20ML%20%26%20DA/FaceRecognition.ipynb#W6sZmlsZQ%3D%3D?line=9'>10</a>\u001b[0m         \u001b[39m# Pass the sub-image through your pre-trained model for classification\u001b[39;00m\n",
      "\u001b[1;31mIndexError\u001b[0m: too many indices for tensor of dimension 3"
     ]
    }
   ],
   "source": [
    "# Initialize an empty list to store the bounding box coordinates of detected faces\n",
    "face_boxes = []\n",
    "\n",
    "# Perform sliding window detection\n",
    "for y in range(0, img_height - window_size[1], step_size):\n",
    "    for x in range(0, img_width - window_size[0], step_size):\n",
    "        # Extract the sub-image using the sliding window\n",
    "        sub_image = image_tensor[:, :, y:y+window_size[1], x:x+window_size[0]]\n",
    "        print(sub_image)\n",
    "        # Pass the sub-image through your pre-trained model for classification\n",
    "        with torch.no_grad():\n",
    "            output = model_1(sub_image)\n",
    "\n",
    "        # Assuming your model outputs a probability (0-1) for face presence\n",
    "        confidence = output.item()\n",
    "\n",
    "        # Define a confidence threshold\n",
    "        confidence_threshold = 0.8  # Adjust as needed\n",
    "\n",
    "        if confidence > confidence_threshold:\n",
    "            # Calculate the coordinates of the bounding box\n",
    "            left = x\n",
    "            top = y\n",
    "            right = x + window_size[0]\n",
    "            bottom = y + window_size[1]\n",
    "            face_boxes.append((left, top, right, bottom))\n",
    "\n",
    "# Optionally, apply non-maximum suppression to remove duplicate boxes"
   ]
  },
  {
   "cell_type": "code",
   "execution_count": null,
   "id": "1d1a7a82",
   "metadata": {},
   "outputs": [],
   "source": [
    "# Visualize the detected faces on the original image using OpenCV\n",
    "image_cv = cv2.imread(image_path)\n",
    "for box in face_boxes:\n",
    "    cv2.rectangle(image_cv, (box[0], box[1]), (box[2], box[3]), (0, 255, 0), 2)\n",
    "\n",
    "# Display or save the image with bounding boxes\n",
    "cv2.imshow('Detected Faces', image_cv)\n",
    "cv2.waitKey(0)\n",
    "cv2.destroyAllWindows()"
   ]
  }
 ],
 "metadata": {
  "kernelspec": {
   "display_name": "Python 3 (ipykernel)",
   "language": "python",
   "name": "python3"
  },
  "language_info": {
   "codemirror_mode": {
    "name": "ipython",
    "version": 3
   },
   "file_extension": ".py",
   "mimetype": "text/x-python",
   "name": "python",
   "nbconvert_exporter": "python",
   "pygments_lexer": "ipython3",
   "version": "3.11.4"
  }
 },
 "nbformat": 4,
 "nbformat_minor": 5
}
