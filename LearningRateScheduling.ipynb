{
 "cells": [
  {
   "cell_type": "markdown",
   "id": "e3f94ed5",
   "metadata": {},
   "source": [
    "# Data Preparation"
   ]
  },
  {
   "cell_type": "code",
   "execution_count": 22,
   "id": "2dbf2c4e",
   "metadata": {},
   "outputs": [],
   "source": [
    "import numpy as np\n",
    "import torch\n",
    "import torchvision\n",
    "import torchvision.transforms as transforms\n",
    "\n",
    "train_dir = './train_images'\n",
    "test_dir = './test_images'\n",
    "\n",
    "# Define the transformations for augmentation\n",
    "data_transforms = {\n",
    "    'train': transforms.Compose([\n",
    "        transforms.Grayscale(), \n",
    "        transforms.RandomResizedCrop(36),\n",
    "        transforms.RandomHorizontalFlip(),\n",
    "        transforms.ToTensor(),\n",
    "        transforms.Normalize(mean=(0,),std=(1,))\n",
    "    ]),\n",
    "    'test':transforms.Compose([\n",
    "        transforms.Grayscale(), \n",
    "        transforms.ToTensor(), \n",
    "        transforms.Normalize(mean=(0,),std=(1,))])        \n",
    "}\n",
    "train_data_augmented = torchvision.datasets.ImageFolder(train_dir, transform=data_transforms['train'])\n",
    "test_data = torchvision.datasets.ImageFolder(test_dir, transform=data_transforms['test'])\n",
    "\n",
    "train_data_size = len(train_data_augmented)\n",
    "test_data_size = len(test_data)"
   ]
  },
  {
   "cell_type": "markdown",
   "id": "888c6573",
   "metadata": {},
   "source": [
    "There are 26950 images without faces and 64770 with faces in the training dataset"
   ]
  },
  {
   "cell_type": "code",
   "execution_count": 5,
   "id": "23e0fcdd",
   "metadata": {},
   "outputs": [],
   "source": [
    "# Set device\n",
    "device = torch.device(\"cuda\" if torch.cuda.is_available() else \"cpu\")"
   ]
  },
  {
   "cell_type": "code",
   "execution_count": 6,
   "id": "0c412e06",
   "metadata": {},
   "outputs": [],
   "source": [
    "from torchsampler import ImbalancedDatasetSampler\n",
    "\n",
    "valid_size = 0.2\n",
    "batch_size = 32\n",
    "seed = 42\n",
    "np.random.seed(seed)\n",
    "torch.manual_seed(seed)\n",
    "\n",
    "train_loader = torch.utils.data.DataLoader(train_data_augmented, batch_size=batch_size, sampler=ImbalancedDatasetSampler(train_data_augmented), num_workers=2)\n",
    "valid_loader = torch.utils.data.DataLoader(train_data_augmented, batch_size=batch_size, sampler=ImbalancedDatasetSampler(train_data_augmented), num_workers=2)\n",
    "test_loader = torch.utils.data.DataLoader(test_data, batch_size=batch_size, shuffle=True, num_workers=2)\n",
    "classes = ('noface','face')"
   ]
  },
  {
   "cell_type": "markdown",
   "id": "4dae6d2e",
   "metadata": {},
   "source": [
    "# Define the model"
   ]
  },
  {
   "cell_type": "code",
   "execution_count": 8,
   "id": "82322785",
   "metadata": {},
   "outputs": [],
   "source": [
    "import torch.nn as nn\n",
    "import torch.nn.functional as F\n",
    "\n",
    "\n",
    "class Net(nn.Module):\n",
    "    def __init__(self):\n",
    "        super(Net, self).__init__()\n",
    "        self.conv1 = nn.Conv2d(1, 6, 5)\n",
    "        self.pool = nn.MaxPool2d(2, 2)\n",
    "        self.conv2 = nn.Conv2d(6, 16, 5)\n",
    "        self.fc1 = nn.Linear(16 * 6 * 6, 64)\n",
    "        self.fc2 = nn.Linear(64, 32)\n",
    "        self.fc3 = nn.Linear(32, 16) # Add a new fully connected layer\n",
    "        self.fc4 = nn.Linear(16, 2)\n",
    "\n",
    "    def forward(self, x):\n",
    "        x = self.pool(F.relu(self.conv1(x)))\n",
    "        x = self.pool(F.relu(self.conv2(x)))\n",
    "        x = x.view(-1, 16 * 6 * 6)\n",
    "        x = F.relu(self.fc1(x))\n",
    "        x = F.relu(self.fc2(x))\n",
    "        x = F.relu(self.fc3(x))\n",
    "        x = self.fc4(x)\n",
    "        return x\n",
    "\n",
    "net = Net().to(device)"
   ]
  },
  {
   "cell_type": "markdown",
   "id": "febba8eb",
   "metadata": {},
   "source": [
    "# Training"
   ]
  },
  {
   "cell_type": "code",
   "execution_count": 14,
   "id": "d59e8cd1",
   "metadata": {},
   "outputs": [
    {
     "name": "stdout",
     "output_type": "stream",
     "text": [
      "Epoch [1/64], Batch [2000/2867], Loss: 0.381, Learning Rate: 0.001000\n",
      "Epoch [2/64], Batch [2000/2867], Loss: 0.223, Learning Rate: 0.001000\n",
      "Epoch [3/64], Batch [2000/2867], Loss: 0.181, Learning Rate: 0.001000\n",
      "Epoch [4/64], Batch [2000/2867], Loss: 0.162, Learning Rate: 0.001000\n",
      "Epoch [5/64], Batch [2000/2867], Loss: 0.145, Learning Rate: 0.001000\n",
      "Epoch [6/64], Batch [2000/2867], Loss: 0.120, Learning Rate: 0.000500\n",
      "Epoch [7/64], Batch [2000/2867], Loss: 0.111, Learning Rate: 0.000500\n",
      "Epoch [8/64], Batch [2000/2867], Loss: 0.108, Learning Rate: 0.000500\n",
      "Epoch [9/64], Batch [2000/2867], Loss: 0.106, Learning Rate: 0.000500\n",
      "Epoch [10/64], Batch [2000/2867], Loss: 0.102, Learning Rate: 0.000500\n",
      "Epoch [11/64], Batch [2000/2867], Loss: 0.090, Learning Rate: 0.000250\n",
      "Epoch [12/64], Batch [2000/2867], Loss: 0.089, Learning Rate: 0.000250\n",
      "Epoch [13/64], Batch [2000/2867], Loss: 0.089, Learning Rate: 0.000250\n",
      "Epoch [14/64], Batch [2000/2867], Loss: 0.087, Learning Rate: 0.000250\n",
      "Epoch [15/64], Batch [2000/2867], Loss: 0.087, Learning Rate: 0.000250\n",
      "Epoch [16/64], Batch [2000/2867], Loss: 0.081, Learning Rate: 0.000125\n",
      "Epoch [17/64], Batch [2000/2867], Loss: 0.081, Learning Rate: 0.000125\n",
      "Epoch [18/64], Batch [2000/2867], Loss: 0.080, Learning Rate: 0.000125\n",
      "Epoch [19/64], Batch [2000/2867], Loss: 0.082, Learning Rate: 0.000125\n",
      "Epoch [20/64], Batch [2000/2867], Loss: 0.079, Learning Rate: 0.000125\n",
      "Epoch [21/64], Batch [2000/2867], Loss: 0.076, Learning Rate: 0.000063\n",
      "Epoch [22/64], Batch [2000/2867], Loss: 0.077, Learning Rate: 0.000063\n",
      "Epoch [23/64], Batch [2000/2867], Loss: 0.076, Learning Rate: 0.000063\n",
      "Epoch [24/64], Batch [2000/2867], Loss: 0.075, Learning Rate: 0.000063\n",
      "Epoch [25/64], Batch [2000/2867], Loss: 0.076, Learning Rate: 0.000063\n",
      "Epoch [26/64], Batch [2000/2867], Loss: 0.075, Learning Rate: 0.000031\n",
      "Epoch [27/64], Batch [2000/2867], Loss: 0.075, Learning Rate: 0.000031\n",
      "Epoch [28/64], Batch [2000/2867], Loss: 0.074, Learning Rate: 0.000031\n",
      "Epoch [29/64], Batch [2000/2867], Loss: 0.073, Learning Rate: 0.000031\n",
      "Epoch [30/64], Batch [2000/2867], Loss: 0.071, Learning Rate: 0.000031\n",
      "Epoch [31/64], Batch [2000/2867], Loss: 0.075, Learning Rate: 0.000016\n",
      "Epoch [32/64], Batch [2000/2867], Loss: 0.074, Learning Rate: 0.000016\n",
      "Epoch [33/64], Batch [2000/2867], Loss: 0.072, Learning Rate: 0.000016\n",
      "Epoch [34/64], Batch [2000/2867], Loss: 0.073, Learning Rate: 0.000016\n",
      "Epoch [35/64], Batch [2000/2867], Loss: 0.073, Learning Rate: 0.000016\n",
      "Epoch [36/64], Batch [2000/2867], Loss: 0.072, Learning Rate: 0.000008\n",
      "Epoch [37/64], Batch [2000/2867], Loss: 0.069, Learning Rate: 0.000008\n",
      "Epoch [38/64], Batch [2000/2867], Loss: 0.072, Learning Rate: 0.000008\n",
      "Epoch [39/64], Batch [2000/2867], Loss: 0.072, Learning Rate: 0.000008\n",
      "Epoch [40/64], Batch [2000/2867], Loss: 0.072, Learning Rate: 0.000008\n",
      "Epoch [41/64], Batch [2000/2867], Loss: 0.073, Learning Rate: 0.000004\n",
      "Epoch [42/64], Batch [2000/2867], Loss: 0.072, Learning Rate: 0.000004\n",
      "Epoch [43/64], Batch [2000/2867], Loss: 0.073, Learning Rate: 0.000004\n",
      "Epoch [44/64], Batch [2000/2867], Loss: 0.070, Learning Rate: 0.000004\n",
      "Epoch [45/64], Batch [2000/2867], Loss: 0.071, Learning Rate: 0.000004\n",
      "Epoch [46/64], Batch [2000/2867], Loss: 0.070, Learning Rate: 0.000002\n",
      "Epoch [47/64], Batch [2000/2867], Loss: 0.071, Learning Rate: 0.000002\n",
      "Epoch [48/64], Batch [2000/2867], Loss: 0.071, Learning Rate: 0.000002\n",
      "Epoch [49/64], Batch [2000/2867], Loss: 0.071, Learning Rate: 0.000002\n",
      "Epoch [50/64], Batch [2000/2867], Loss: 0.074, Learning Rate: 0.000002\n",
      "Epoch [51/64], Batch [2000/2867], Loss: 0.071, Learning Rate: 0.000001\n",
      "Epoch [52/64], Batch [2000/2867], Loss: 0.070, Learning Rate: 0.000001\n",
      "Epoch [53/64], Batch [2000/2867], Loss: 0.070, Learning Rate: 0.000001\n",
      "Epoch [54/64], Batch [2000/2867], Loss: 0.071, Learning Rate: 0.000001\n",
      "Epoch [55/64], Batch [2000/2867], Loss: 0.067, Learning Rate: 0.000001\n",
      "Epoch [56/64], Batch [2000/2867], Loss: 0.072, Learning Rate: 0.000000\n",
      "Epoch [57/64], Batch [2000/2867], Loss: 0.070, Learning Rate: 0.000000\n",
      "Epoch [58/64], Batch [2000/2867], Loss: 0.073, Learning Rate: 0.000000\n",
      "Epoch [59/64], Batch [2000/2867], Loss: 0.070, Learning Rate: 0.000000\n",
      "Epoch [60/64], Batch [2000/2867], Loss: 0.072, Learning Rate: 0.000000\n",
      "Epoch [61/64], Batch [2000/2867], Loss: 0.074, Learning Rate: 0.000000\n",
      "Epoch [62/64], Batch [2000/2867], Loss: 0.070, Learning Rate: 0.000000\n",
      "Epoch [63/64], Batch [2000/2867], Loss: 0.070, Learning Rate: 0.000000\n",
      "Epoch [64/64], Batch [2000/2867], Loss: 0.072, Learning Rate: 0.000000\n",
      "Finished Training\n"
     ]
    }
   ],
   "source": [
    "import torch.optim as optim\n",
    "from torch.optim.lr_scheduler import StepLR\n",
    "\n",
    "criterion = nn.CrossEntropyLoss()\n",
    "optimizer = optim.Adam(net.parameters(), lr=0.001, weight_decay=1e-4) # Use Adam optimization\n",
    "\n",
    "scheduler = StepLR(optimizer, step_size=5, gamma=0.8)\n",
    "\n",
    "n_epochs = 32\n",
    "epsilon = 0.1\n",
    "early_stop = False\n",
    "\n",
    "for epoch in range(1, n_epochs+1):  # loop over the dataset multiple times\n",
    "    running_loss = 0.0\n",
    "    for i, data in enumerate(train_loader, 0):\n",
    "        # get the inputs; data is a list of [inputs, labels]\n",
    "        inputs, labels = data\n",
    "        inputs = inputs.to(device)\n",
    "        labels = labels.to(device)\n",
    "        # zero the parameter gradients\n",
    "        optimizer.zero_grad()\n",
    "\n",
    "        # forward + backward + optimize\n",
    "        outputs = net(inputs)\n",
    "        loss = criterion(outputs, labels)\n",
    "        loss.backward()\n",
    "        optimizer.step()\n",
    "\n",
    "        # print statistics\n",
    "        running_loss += loss.item()\n",
    "        if i % 2000 == 1999:    # print every 2000 mini-batches\n",
    "            print(f'Epoch [{epoch}/{n_epochs}], Batch [{i + 1}/{len(train_loader)}], Loss: {running_loss / 2000:.3f}, Learning Rate: {scheduler.get_last_lr()[0]:.6f}')\n",
    "            # print(f'[{epoch + 1}, {i + 1:5d}] loss: {running_loss / 2000:.3f}')\n",
    "            if (running_loss / 2000) < epsilon:\n",
    "                early_stop = True\n",
    "                break\n",
    "            running_loss = 0.0\n",
    "    \n",
    "    if early_stop:\n",
    "        break\n",
    "    \n",
    "    # Step the learning rate scheduler at the end of each epoch\n",
    "    scheduler.step()\n",
    "# need to implement stop if the accuracy doesn't go down enough\n",
    "\n",
    "print('Finished Training')"
   ]
  },
  {
   "cell_type": "code",
   "execution_count": 15,
   "id": "7b9e4c8d",
   "metadata": {},
   "outputs": [],
   "source": [
    "PATH = './lr_scheduling_net.pth'\n",
    "torch.save(net.state_dict(), PATH)"
   ]
  },
  {
   "cell_type": "code",
   "execution_count": 14,
   "id": "6dac4e91",
   "metadata": {},
   "outputs": [
    {
     "data": {
      "text/plain": [
       "<All keys matched successfully>"
      ]
     },
     "execution_count": 14,
     "metadata": {},
     "output_type": "execute_result"
    }
   ],
   "source": [
    "# load the trained model to avoid retrain from scratch\n",
    "PATH = './lr_scheduling_net.pth'\n",
    "net.load_state_dict(torch.load(PATH))"
   ]
  },
  {
   "cell_type": "markdown",
   "id": "065f3fb2",
   "metadata": {},
   "source": [
    "# Test the model"
   ]
  },
  {
   "cell_type": "code",
   "execution_count": 15,
   "id": "ad2aa16b",
   "metadata": {},
   "outputs": [
    {
     "name": "stdout",
     "output_type": "stream",
     "text": [
      "Accuracy of the network on the 7648 test images: 98.09\n"
     ]
    }
   ],
   "source": [
    "correct = 0\n",
    "total = 0\n",
    "with torch.no_grad():\n",
    "    for data in test_loader:\n",
    "        inputs, labels = data\n",
    "        inputs = inputs.to(device)\n",
    "        labels = labels.to(device)\n",
    "        outputs = net(inputs)\n",
    "        _, predicted = torch.max(outputs.data, 1)\n",
    "        total += labels.size(0)\n",
    "        correct += (predicted == labels).sum().item()\n",
    "\n",
    "print(f'Accuracy of the network on the 7628 test images: {100 * correct / total:.2f}')"
   ]
  }
 ],
 "metadata": {
  "kernelspec": {
   "display_name": "Python 3 (ipykernel)",
   "language": "python",
   "name": "python3"
  },
  "language_info": {
   "codemirror_mode": {
    "name": "ipython",
    "version": 3
   },
   "file_extension": ".py",
   "mimetype": "text/x-python",
   "name": "python",
   "nbconvert_exporter": "python",
   "pygments_lexer": "ipython3",
   "version": "3.11.4"
  }
 },
 "nbformat": 4,
 "nbformat_minor": 5
}
