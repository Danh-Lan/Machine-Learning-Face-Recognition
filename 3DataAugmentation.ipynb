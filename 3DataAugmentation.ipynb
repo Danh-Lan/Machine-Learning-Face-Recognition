{
 "cells": [
  {
   "cell_type": "markdown",
   "id": "63bb9d64",
   "metadata": {},
   "source": [
    "# Image classifiers training\n",
    "## 1. Data Augmentation"
   ]
  },
  {
   "cell_type": "code",
   "execution_count": 11,
   "id": "2dbf2c4e",
   "metadata": {},
   "outputs": [],
   "source": [
    "import numpy as np\n",
    "import torch\n",
    "import torchvision\n",
    "import torchvision.transforms as transforms\n",
    "\n",
    "train_dir = './train_images'\n",
    "test_dir = './test_images'\n",
    "\n",
    "# Define the transformations for augmentation\n",
    "data_transforms = {\n",
    "    'train': transforms.Compose([\n",
    "        transforms.Grayscale(), \n",
    "        transforms.RandomResizedCrop(36),\n",
    "        transforms.RandomHorizontalFlip(),\n",
    "        transforms.ToTensor(),\n",
    "        transforms.Normalize(mean=(0,),std=(1,))\n",
    "    ]),\n",
    "    'test':transforms.Compose([\n",
    "        transforms.Grayscale(),\n",
    "        transforms.ToTensor(),\n",
    "        transforms.Normalize(mean=(0,),std=(1,))\n",
    "    ])        \n",
    "}\n",
    "train_data = torchvision.datasets.ImageFolder(train_dir, transform=data_transforms['train'])\n",
    "test_data = torchvision.datasets.ImageFolder(test_dir, transform=data_transforms['test'])\n",
    "\n",
    "train_data_size = len(train_data)\n",
    "test_data_size = len(test_data)"
   ]
  },
  {
   "cell_type": "code",
   "execution_count": 12,
   "id": "23e0fcdd",
   "metadata": {},
   "outputs": [],
   "source": [
    "# Set device\n",
    "device = torch.device(\"cuda\" if torch.cuda.is_available() else \"cpu\")"
   ]
  },
  {
   "cell_type": "code",
   "execution_count": 13,
   "id": "0c412e06",
   "metadata": {},
   "outputs": [],
   "source": [
    "from torch.utils.data.sampler import SubsetRandomSampler\n",
    "\n",
    "valid_size = 0.2\n",
    "batch_size = 32\n",
    "seed = 42\n",
    "np.random.seed(seed)\n",
    "torch.manual_seed(seed)\n",
    "\n",
    "num_train = len(train_data)\n",
    "indices_train = list(range(num_train))\n",
    "np.random.shuffle(indices_train)\n",
    "split_tv = int(np.floor(valid_size * num_train))\n",
    "train_new_idx, valid_idx = indices_train[split_tv:],indices_train[:split_tv]\n",
    "\n",
    "train_sampler = SubsetRandomSampler(train_new_idx)\n",
    "valid_sampler = SubsetRandomSampler(valid_idx)\n",
    "\n",
    "train_loader = torch.utils.data.DataLoader(train_data, batch_size=batch_size, sampler=train_sampler, num_workers=5)\n",
    "valid_loader = torch.utils.data.DataLoader(train_data, batch_size=batch_size, sampler=valid_sampler, num_workers=5)\n",
    "test_loader = torch.utils.data.DataLoader(test_data, batch_size=batch_size, shuffle=True, num_workers=5)\n",
    "classes = ('noface','face')"
   ]
  },
  {
   "cell_type": "code",
   "execution_count": 14,
   "id": "f92e0ecb",
   "metadata": {},
   "outputs": [],
   "source": [
    "import torch.nn as nn\n",
    "import torch.nn.functional as F\n",
    "\n",
    "\n",
    "class Net_3_layers(nn.Module):\n",
    "    def __init__(self):\n",
    "        super(Net_3_layers, self).__init__()\n",
    "        self.conv1 = nn.Conv2d(1, 6, 5)\n",
    "        self.pool = nn.MaxPool2d(2, 2)\n",
    "        self.conv2 = nn.Conv2d(6, 16, 5)\n",
    "        self.fc1 = nn.Linear(16 * 6 * 6, 32)\n",
    "        self.fc2 = nn.Linear(32, 16)\n",
    "        self.fc3 = nn.Linear(16, 2)\n",
    "\n",
    "    def forward(self, x):\n",
    "        x = self.pool(F.relu(self.conv1(x)))\n",
    "        x = self.pool(F.relu(self.conv2(x)))\n",
    "        x = x.view(-1, 16 * 6 * 6)\n",
    "        x = F.relu(self.fc1(x))\n",
    "        x = F.relu(self.fc2(x))\n",
    "        x = self.fc3(x)\n",
    "        return x\n",
    "\n",
    "model = Net_3_layers().to(device)"
   ]
  },
  {
   "cell_type": "code",
   "execution_count": 15,
   "id": "82322785",
   "metadata": {},
   "outputs": [],
   "source": [
    "class Net_4_layers(nn.Module):\n",
    "    def __init__(self):\n",
    "        super(Net_4_layers, self).__init__()\n",
    "        self.conv1 = nn.Conv2d(1, 6, 5)\n",
    "        self.pool = nn.MaxPool2d(2, 2)\n",
    "        self.conv2 = nn.Conv2d(6, 16, 5)\n",
    "        self.fc1 = nn.Linear(16 * 6 * 6, 64)\n",
    "        self.fc2 = nn.Linear(64, 32)\n",
    "        self.fc3 = nn.Linear(32, 16) # Add a new fully connected layer\n",
    "        self.fc4 = nn.Linear(16, 2)\n",
    "\n",
    "    def forward(self, x):\n",
    "        x = self.pool(F.relu(self.conv1(x)))\n",
    "        x = self.pool(F.relu(self.conv2(x)))\n",
    "        x = x.view(-1, 16 * 6 * 6)\n",
    "        x = F.relu(self.fc1(x))\n",
    "        x = F.relu(self.fc2(x))\n",
    "        x = F.relu(self.fc3(x))\n",
    "        x = self.fc4(x)\n",
    "        return x\n",
    "\n",
    "model_1 = Net_4_layers().to(device)"
   ]
  },
  {
   "cell_type": "code",
   "execution_count": 16,
   "id": "d377eeb6",
   "metadata": {},
   "outputs": [],
   "source": [
    "def train_NN(n_epochs, optimizer, model, criterion, early_stop_value):\n",
    "    EPOCHS_WAIT_BEFORE_EARLY_STOPPING = 5 # tolerate some epoch with no improvement to avoid local minimum\n",
    "    epochs_count = 0\n",
    "\n",
    "    for epoch in range(1, n_epochs+1):  # loop over the dataset multiple times\n",
    "        running_loss = 0.0\n",
    "        for i, data in enumerate(train_loader, 0):\n",
    "            # get the inputs; data is a list of [inputs, labels]\n",
    "            inputs, labels = data\n",
    "            inputs = inputs.to(device)\n",
    "            labels = labels.to(device)\n",
    "            # zero the parameter gradients\n",
    "            optimizer.zero_grad()\n",
    "\n",
    "            # forward + backward + optimize\n",
    "            outputs = model(inputs)\n",
    "            loss = criterion(outputs, labels)\n",
    "            loss.backward()\n",
    "            optimizer.step()\n",
    "\n",
    "            running_loss += loss.item()\n",
    "        \n",
    "        loss_average = running_loss / len(train_loader)\n",
    "        print(f'[{epoch}, {i + 1:5d}] loss: {loss_average:.3f}')\n",
    "        \n",
    "        # stop the training if the loss is lower than the threshold\n",
    "        if (loss_average < early_stop_value):\n",
    "            epochs_count = epochs_count + 1\n",
    "            if (epochs_count == EPOCHS_WAIT_BEFORE_EARLY_STOPPING):\n",
    "                break\n",
    "\n",
    "    print('Finished Training')"
   ]
  },
  {
   "cell_type": "code",
   "execution_count": 17,
   "id": "d59e8cd1",
   "metadata": {},
   "outputs": [
    {
     "name": "stdout",
     "output_type": "stream",
     "text": [
      "[1,  2293] loss: 0.605\n",
      "[2,  2293] loss: 0.581\n",
      "[3,  2293] loss: 0.476\n",
      "[4,  2293] loss: 0.378\n",
      "[5,  2293] loss: 0.331\n",
      "[6,  2293] loss: 0.295\n",
      "[7,  2293] loss: 0.274\n",
      "[8,  2293] loss: 0.247\n",
      "[9,  2293] loss: 0.221\n",
      "[10,  2293] loss: 0.211\n",
      "[11,  2293] loss: 0.193\n",
      "[12,  2293] loss: 0.181\n",
      "[13,  2293] loss: 0.173\n",
      "[14,  2293] loss: 0.164\n",
      "[15,  2293] loss: 0.158\n",
      "[16,  2293] loss: 0.154\n",
      "[17,  2293] loss: 0.147\n",
      "[18,  2293] loss: 0.140\n",
      "[19,  2293] loss: 0.136\n",
      "[20,  2293] loss: 0.132\n",
      "Finished Training\n"
     ]
    }
   ],
   "source": [
    "import torch.optim as optim\n",
    "\n",
    "criterion = nn.CrossEntropyLoss()\n",
    "optimizer_SGD = optim.SGD(model.parameters(), lr=0.001, momentum=0.9)\n",
    "optimizer_Adam = optim.Adam(model_1.parameters(), lr=0.001, weight_decay=1e-4) # Use Adam optimization\n",
    "n_epochs = 20\n",
    "early_stop_value = 0.1\n",
    "\n",
    "train_NN(n_epochs, optimizer_SGD, model, criterion, early_stop_value)\n",
    "train_NN(n_epochs, optimizer_Adam, model_1, criterion, early_stop_value)\n",
    "\n",
    "# save the model after training\n",
    "path = \"models/3-layer-net.pth\"\n",
    "torch.save(model.state_dict(), path)\n",
    "\n",
    "path_1 = \"models/4-layer-net.pth\"\n",
    "torch.save(model_1.state_dict(), path)"
   ]
  },
  {
   "cell_type": "code",
   "execution_count": 6,
   "id": "8c7a44d7",
   "metadata": {},
   "outputs": [],
   "source": [
    "def get_classifier_accuracy(model):\n",
    "    # number of no face and face images in the test dataset\n",
    "    NO_FACE = 6831\n",
    "    FACE = 797\n",
    "\n",
    "    correct = 0\n",
    "    correct_no_face = 0\n",
    "    correct_has_face = 1\n",
    "    total = 0\n",
    "    with torch.no_grad():\n",
    "        for data in test_loader:\n",
    "            inputs, labels = data\n",
    "            inputs = inputs.to(device)\n",
    "            labels = labels.to(device)\n",
    "            outputs = model(inputs)\n",
    "            _, predicted = torch.max(outputs.data, 1)\n",
    "            total += labels.size(0)\n",
    "            correct_no_face += ((predicted == 0) & (labels == 0)).sum().item()\n",
    "            correct_has_face += ((predicted == 1) & (labels == 1)).sum().item()\n",
    "            correct += (predicted == labels).sum().item()\n",
    "    \n",
    "    print(\"correct no face = {:.2f}, has face = {:.2f}\".format(100 * correct_no_face / NO_FACE, 100 * correct_has_face / FACE))\n",
    "\n",
    "    return 100 * correct / total"
   ]
  },
  {
   "cell_type": "code",
   "execution_count": 19,
   "id": "ad2aa16b",
   "metadata": {},
   "outputs": [
    {
     "name": "stdout",
     "output_type": "stream",
     "text": [
      "correct no face = 99.00, has face = 83.69\n",
      "correct no face = 99.60, has face = 88.33\n",
      "Accuracy of the 3-layer classifier on the 7628 test images: 97.39\n",
      "Accuracy of the 4-layer classifier on the 7628 test images: 98.41\n"
     ]
    }
   ],
   "source": [
    "model.load_state_dict(torch.load('models/3-layer-net.pth'))\n",
    "model_1.load_state_dict(torch.load('models/4-layer-net.pth'))\n",
    "\n",
    "model_accuracy = get_classifier_accuracy(model)\n",
    "model_1_accuracy = get_classifier_accuracy(model_1)\n",
    "print('Accuracy of the 3-layer classifier on the {} test images: {:.2f}'.format(test_data_size, model_accuracy))\n",
    "print('Accuracy of the 4-layer classifier on the {} test images: {:.2f}'.format(test_data_size, model_1_accuracy))"
   ]
  },
  {
   "cell_type": "markdown",
   "id": "421b645f",
   "metadata": {},
   "source": [
    "**Observation**\n",
    "By applying data augmentation techniques on the fly, we obtained a classifier of 98% accuracy, which is 6% higher than the one trained with original data.\n",
    "Then we added a fully-connected layer (64,32) and replaced SGD with Adam as optimization function. The accuracy of image classifier increased by 0.3%."
   ]
  },
  {
   "cell_type": "markdown",
   "id": "6d7b2e35",
   "metadata": {},
   "source": [
    "## 2. Transfer Learning\n",
    "Since RESNET18 was trained on RGB images, we do not apply GrayScale transform in pre-processing step."
   ]
  },
  {
   "cell_type": "code",
   "execution_count": 18,
   "id": "0f30a639",
   "metadata": {},
   "outputs": [],
   "source": [
    "# Define the transformations for augmentation\n",
    "data_transforms_RGB = {\n",
    "    'train': transforms.Compose([\n",
    "        transforms.RandomResizedCrop(36),\n",
    "        transforms.RandomHorizontalFlip(),\n",
    "        transforms.ToTensor(),\n",
    "        transforms.Normalize([0.485, 0.456, 0.406], [0.229, 0.224, 0.225])\n",
    "    ]),\n",
    "    'test':transforms.Compose([\n",
    "        transforms.ToTensor(), \n",
    "        transforms.Normalize([0.485, 0.456, 0.406], [0.229, 0.224, 0.225])\n",
    "    ])        \n",
    "}\n",
    "train_data_RGB = torchvision.datasets.ImageFolder(train_dir, transform=data_transforms_RGB['train'])\n",
    "test_data_RGB = torchvision.datasets.ImageFolder(test_dir, transform=data_transforms_RGB['test'])\n"
   ]
  },
  {
   "cell_type": "code",
   "execution_count": 19,
   "id": "2360ac6a",
   "metadata": {},
   "outputs": [],
   "source": [
    "train_loader = torch.utils.data.DataLoader(train_data_RGB, batch_size=batch_size, sampler=train_sampler, num_workers=5)\n",
    "valid_loader = torch.utils.data.DataLoader(train_data_RGB, batch_size=batch_size, sampler=valid_sampler, num_workers=5)\n",
    "test_loader = torch.utils.data.DataLoader(test_data_RGB, batch_size=batch_size, shuffle=True, num_workers=5)"
   ]
  },
  {
   "cell_type": "code",
   "execution_count": 20,
   "id": "f38870ae",
   "metadata": {},
   "outputs": [],
   "source": [
    "import torch.nn as nn\n",
    "model_ft = torchvision.models.resnet18(weights='IMAGENET1K_V1')\n",
    "num_ftrs = model_ft.fc.in_features\n",
    "model_ft.fc = nn.Linear(num_ftrs, 2)\n",
    "model_2 = model_ft.to(device)"
   ]
  },
  {
   "cell_type": "code",
   "execution_count": 21,
   "id": "b44456f0",
   "metadata": {},
   "outputs": [
    {
     "name": "stdout",
     "output_type": "stream",
     "text": [
      "[2,  2000] loss: 0.107\n",
      "[3,  2000] loss: 0.078\n",
      "[4,  2000] loss: 0.072\n",
      "[5,  2000] loss: 0.066\n",
      "[6,  2000] loss: 0.058\n",
      "[7,  2000] loss: 0.057\n",
      "[8,  2000] loss: 0.055\n",
      "[9,  2000] loss: 0.054\n",
      "[10,  2000] loss: 0.052\n",
      "[11,  2000] loss: 0.050\n",
      "[12,  2000] loss: 0.049\n",
      "[13,  2000] loss: 0.051\n",
      "[14,  2000] loss: 0.049\n",
      "[15,  2000] loss: 0.049\n",
      "[16,  2000] loss: 0.047\n",
      "[17,  2000] loss: 0.049\n",
      "[18,  2000] loss: 0.046\n",
      "[19,  2000] loss: 0.049\n",
      "[20,  2000] loss: 0.046\n",
      "[21,  2000] loss: 0.045\n",
      "Finished Training\n"
     ]
    }
   ],
   "source": [
    "import torch.optim as optim\n",
    "\n",
    "criterion = nn.CrossEntropyLoss()\n",
    "optimizer_Adam = optim.Adam(model_2.parameters(), lr=0.001, weight_decay=1e-4) # Use Adam optimization\n",
    "n_epochs = 20\n",
    "\n",
    "train_NN(n_epochs, optimizer_Adam, model_2, criterion)\n"
   ]
  },
  {
   "cell_type": "code",
   "execution_count": 23,
   "id": "998e425a",
   "metadata": {},
   "outputs": [
    {
     "name": "stdout",
     "output_type": "stream",
     "text": [
      "Accuracy of the pretrained RESNET18 classifier on the 7628 test images: 57.56\n"
     ]
    }
   ],
   "source": [
    "model_2_accuracy = get_classifier_accuracy(model_2)\n",
    "print('Accuracy of the pretrained RESNET18 classifier on the 7628 test images: {:.2f}'.format(model_2_accuracy))"
   ]
  }
 ],
 "metadata": {
  "kernelspec": {
   "display_name": "Python 3 (ipykernel)",
   "language": "python",
   "name": "python3"
  },
  "language_info": {
   "codemirror_mode": {
    "name": "ipython",
    "version": 3
   },
   "file_extension": ".py",
   "mimetype": "text/x-python",
   "name": "python",
   "nbconvert_exporter": "python",
   "pygments_lexer": "ipython3",
   "version": "3.11.4"
  }
 },
 "nbformat": 4,
 "nbformat_minor": 5
}
