{
 "cells": [
  {
   "cell_type": "markdown",
   "id": "0bb24c30",
   "metadata": {},
   "source": [
    "We keep the same model but replace the random sampler by imbalance sampler"
   ]
  },
  {
   "cell_type": "code",
   "execution_count": 1,
   "id": "725a5099",
   "metadata": {},
   "outputs": [],
   "source": [
    "# %pip install torchsampler"
   ]
  },
  {
   "cell_type": "code",
   "execution_count": 2,
   "id": "2dbf2c4e",
   "metadata": {},
   "outputs": [],
   "source": [
    "import numpy as np\n",
    "import torch\n",
    "import torchvision\n",
    "import torchvision.transforms as transforms\n",
    "\n",
    "train_dir = './train_images'\n",
    "test_dir = './test_images'\n",
    "\n",
    "data_transforms = {\n",
    "    'train': transforms.Compose([\n",
    "        transforms.Grayscale(), \n",
    "        transforms.ToTensor(),\n",
    "        transforms.Normalize(mean=(0,),std=(1,))\n",
    "    ]),\n",
    "    'test':transforms.Compose([\n",
    "        transforms.Grayscale(), \n",
    "        transforms.ToTensor(), \n",
    "        transforms.Normalize(mean=(0,),std=(1,))])        \n",
    "}\n",
    "train_data_augmented = torchvision.datasets.ImageFolder(train_dir, transform=data_transforms['train'])\n",
    "test_data = torchvision.datasets.ImageFolder(test_dir, transform=data_transforms['test'])\n",
    "\n",
    "train_data_size = len(train_data_augmented)\n",
    "test_data_size = len(test_data)"
   ]
  },
  {
   "cell_type": "code",
   "execution_count": 3,
   "id": "23e0fcdd",
   "metadata": {},
   "outputs": [],
   "source": [
    "# Set device\n",
    "device = torch.device(\"cuda\" if torch.cuda.is_available() else \"cpu\")"
   ]
  },
  {
   "cell_type": "code",
   "execution_count": 4,
   "id": "0c412e06",
   "metadata": {},
   "outputs": [],
   "source": [
    "from torchsampler import ImbalancedDatasetSampler\n",
    "\n",
    "batch_size = 32\n",
    "\n",
    "train_loader = torch.utils.data.DataLoader(train_data_augmented, batch_size=batch_size, sampler=ImbalancedDatasetSampler(train_data_augmented), num_workers=2)\n",
    "valid_loader = torch.utils.data.DataLoader(train_data_augmented, batch_size=batch_size, sampler=ImbalancedDatasetSampler(train_data_augmented), num_workers=2)\n",
    "test_loader = torch.utils.data.DataLoader(test_data, batch_size=batch_size, shuffle=True, num_workers=2)\n",
    "classes = ('noface','face')"
   ]
  },
  {
   "cell_type": "code",
   "execution_count": 5,
   "id": "82322785",
   "metadata": {},
   "outputs": [],
   "source": [
    "import torch.nn as nn\n",
    "import torch.nn.functional as F\n",
    "\n",
    "\n",
    "class Net(nn.Module):\n",
    "    def __init__(self):\n",
    "        super(Net, self).__init__()\n",
    "        self.conv1 = nn.Conv2d(1, 6, 5)\n",
    "        self.pool = nn.MaxPool2d(2, 2)\n",
    "        self.conv2 = nn.Conv2d(6, 16, 5)\n",
    "        self.fc1 = nn.Linear(16 * 6 * 6, 32)\n",
    "        self.fc2 = nn.Linear(32, 16)\n",
    "        self.fc3 = nn.Linear(16, 2)\n",
    "\n",
    "    def forward(self, x):\n",
    "        x = self.pool(F.relu(self.conv1(x)))\n",
    "        x = self.pool(F.relu(self.conv2(x)))\n",
    "        x = x.view(-1, 16 * 6 * 6)\n",
    "        x = F.relu(self.fc1(x))\n",
    "        x = F.relu(self.fc2(x))\n",
    "        x = self.fc3(x)\n",
    "        return x\n",
    "\n",
    "net = Net().to(device)"
   ]
  },
  {
   "cell_type": "code",
   "execution_count": 6,
   "id": "d59e8cd1",
   "metadata": {},
   "outputs": [],
   "source": [
    "def train_NN(n_epochs, optimizer, model, criterion, early_stop_threshold):\n",
    "    for epoch in range(1, n_epochs+1):  # loop over the dataset multiple times\n",
    "        running_loss = 0.0\n",
    "        for i, data in enumerate(train_loader, 0):\n",
    "            # get the inputs; data is a list of [inputs, labels]\n",
    "            inputs, labels = data\n",
    "            inputs = inputs.to(device)\n",
    "            labels = labels.to(device)\n",
    "            # zero the parameter gradients\n",
    "            optimizer.zero_grad()\n",
    "\n",
    "            # forward + backward + optimize\n",
    "            outputs = model(inputs)\n",
    "            loss = criterion(outputs, labels)\n",
    "            loss.backward()\n",
    "            optimizer.step()\n",
    "\n",
    "            running_loss += loss.item()\n",
    "\n",
    "        # print statistics after every epoch\n",
    "        loss_average = running_loss / len(train_loader)\n",
    "        print(f'[{epoch}, {i + 1:5d}] loss: {loss_average:.3f}')\n",
    "        \n",
    "        # stop the training if the loss is lower than the threshold\n",
    "        if (loss_average < early_stop_threshold):\n",
    "            break\n",
    "\n",
    "\n",
    "    print('Finished Training')"
   ]
  },
  {
   "cell_type": "code",
   "execution_count": 7,
   "id": "a158f5a4",
   "metadata": {},
   "outputs": [
    {
     "name": "stdout",
     "output_type": "stream",
     "text": [
      "[1,  2867] loss: 0.614\n",
      "[2,  2867] loss: 0.141\n",
      "[3,  2867] loss: 0.071\n",
      "[4,  2867] loss: 0.048\n",
      "[5,  2867] loss: 0.033\n",
      "[6,  2867] loss: 0.029\n",
      "Finished Training\n"
     ]
    }
   ],
   "source": [
    "import torch.optim as optim\n",
    "\n",
    "criterion = nn.CrossEntropyLoss()\n",
    "optimizer_SGD = optim.SGD(net.parameters(), lr=0.001, momentum=0.9)\n",
    "n_epochs = 20\n",
    "early_stop_threshold = 0.03\n",
    "\n",
    "train_NN(n_epochs, optimizer_SGD, net, criterion, early_stop_threshold)"
   ]
  },
  {
   "cell_type": "code",
   "execution_count": 8,
   "id": "7b9e4c8d",
   "metadata": {},
   "outputs": [],
   "source": [
    "PATH = 'models/3-layer-imbalance-sampler-net.pth'\n",
    "torch.save(net.state_dict(), PATH)"
   ]
  },
  {
   "cell_type": "code",
   "execution_count": 9,
   "id": "1b64eac4",
   "metadata": {},
   "outputs": [],
   "source": [
    "def get_classifier_accuracy(model):\n",
    "    # number of no face and face images in the test dataset\n",
    "    NO_FACE = 6831\n",
    "    FACE = 797\n",
    "\n",
    "    correct = 0\n",
    "    correct_no_face = 0\n",
    "    correct_has_face = 1\n",
    "    total = 0\n",
    "    with torch.no_grad():\n",
    "        for data in test_loader:\n",
    "            inputs, labels = data\n",
    "            inputs = inputs.to(device)\n",
    "            labels = labels.to(device)\n",
    "            outputs = model(inputs)\n",
    "            _, predicted = torch.max(outputs.data, 1)\n",
    "            total += labels.size(0)\n",
    "            correct_no_face += ((predicted == 0) & (labels == 0)).sum().item()\n",
    "            correct_has_face += ((predicted == 1) & (labels == 1)).sum().item()\n",
    "            correct += (predicted == labels).sum().item()\n",
    "    \n",
    "    print(\"correct no face = {:.2f}, has face = {:.2f}\".format(correct_no_face / NO_FACE, correct_has_face / FACE))\n",
    "\n",
    "    return 100 * correct / total"
   ]
  },
  {
   "cell_type": "code",
   "execution_count": 10,
   "id": "ad2aa16b",
   "metadata": {},
   "outputs": [
    {
     "name": "stdout",
     "output_type": "stream",
     "text": [
      "correct no face = 0.99, has face = 0.27\n",
      "Accuracy of the 3-layer no augmentation classifier on the 7628 test images: 91.78\n"
     ]
    }
   ],
   "source": [
    "net.load_state_dict(torch.load('models/3-layer-imbalance-sampler-net.pth'))\n",
    "\n",
    "model_accuracy = get_classifier_accuracy(net)\n",
    "print('Accuracy of the 3-layer no augmentation classifier on the {} test images: {:.2f}'.format(test_data_size, model_accuracy))"
   ]
  },
  {
   "cell_type": "markdown",
   "id": "d66d9e0f",
   "metadata": {},
   "source": [
    "So with imbalance sampler, the model performs worse. We decide to use the random sampler with 80:20 partition"
   ]
  }
 ],
 "metadata": {
  "kernelspec": {
   "display_name": "Python 3 (ipykernel)",
   "language": "python",
   "name": "python3"
  },
  "language_info": {
   "codemirror_mode": {
    "name": "ipython",
    "version": 3
   },
   "file_extension": ".py",
   "mimetype": "text/x-python",
   "name": "python",
   "nbconvert_exporter": "python",
   "pygments_lexer": "ipython3",
   "version": "3.11.4"
  }
 },
 "nbformat": 4,
 "nbformat_minor": 5
}
